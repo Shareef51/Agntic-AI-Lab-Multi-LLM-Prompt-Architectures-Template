{
  "cells": [
    {
      "cell_type": "markdown",
      "metadata": {
        "id": "view-in-github",
        "colab_type": "text"
      },
      "source": [
        "<a href=\"https://colab.research.google.com/github/Shareef51/Agntic-AI-Lab-Multi-LLM-Prompt-Architectures-Template/blob/Prompt_Engineering_with_Google_Gemini/Prompt_Engineering_with_Google_Gemini.ipynb\" target=\"_parent\"><img src=\"https://colab.research.google.com/assets/colab-badge.svg\" alt=\"Open In Colab\"/></a>"
      ]
    },
    {
      "cell_type": "markdown",
      "metadata": {
        "id": "L1KvMtf54l0d"
      },
      "source": [
        "## Install OpenAI and LangChain dependencies"
      ]
    },
    {
      "cell_type": "markdown",
      "source": [
        "# Exploring Prompt Engineering Patterns\n",
        "\n",
        "- Task 01: Persona Pattern\n",
        "- Task 02: Flipped Interaction Pattern\n",
        "- Task 03: N-Shot Prompting Pattern\n",
        "- Task 04: Directional Stimulus Pattern\n",
        "- Task 05: Template Pattern\n",
        "- Task 06: Meta Language Pattern\n",
        "- Task 07: Chain of Thought Pattern\n",
        "- Task 08: Self-Consistency Pattern\n",
        "- Task 09: Least to Most Pattern\n",
        "- Task 10: ReAct Pattern"
      ],
      "metadata": {
        "id": "_FDhNBxQSP6o"
      }
    },
    {
      "cell_type": "code",
      "execution_count": null,
      "metadata": {
        "id": "eEzecGfICCw1",
        "colab": {
          "base_uri": "https://localhost:8080/",
          "height": 1000
        },
        "outputId": "e105cf2a-b5ce-4015-f94d-0373a55b126c",
        "collapsed": true
      },
      "outputs": [
        {
          "output_type": "stream",
          "name": "stdout",
          "text": [
            "Requirement already satisfied: langchain==0.3.10 in /usr/local/lib/python3.12/dist-packages (0.3.10)\n",
            "Requirement already satisfied: PyYAML>=5.3 in /usr/local/lib/python3.12/dist-packages (from langchain==0.3.10) (6.0.2)\n",
            "Requirement already satisfied: SQLAlchemy<3,>=1.4 in /usr/local/lib/python3.12/dist-packages (from langchain==0.3.10) (2.0.43)\n",
            "Requirement already satisfied: aiohttp<4.0.0,>=3.8.3 in /usr/local/lib/python3.12/dist-packages (from langchain==0.3.10) (3.12.15)\n",
            "Requirement already satisfied: langchain-core<0.4.0,>=0.3.22 in /usr/local/lib/python3.12/dist-packages (from langchain==0.3.10) (0.3.63)\n",
            "Requirement already satisfied: langchain-text-splitters<0.4.0,>=0.3.0 in /usr/local/lib/python3.12/dist-packages (from langchain==0.3.10) (0.3.8)\n",
            "Requirement already satisfied: langsmith<0.2.0,>=0.1.17 in /usr/local/lib/python3.12/dist-packages (from langchain==0.3.10) (0.1.147)\n",
            "Requirement already satisfied: numpy<3,>=1.26.2 in /usr/local/lib/python3.12/dist-packages (from langchain==0.3.10) (2.0.2)\n",
            "Requirement already satisfied: pydantic<3.0.0,>=2.7.4 in /usr/local/lib/python3.12/dist-packages (from langchain==0.3.10) (2.11.7)\n",
            "Requirement already satisfied: requests<3,>=2 in /usr/local/lib/python3.12/dist-packages (from langchain==0.3.10) (2.32.4)\n",
            "Requirement already satisfied: tenacity!=8.4.0,<10,>=8.1.0 in /usr/local/lib/python3.12/dist-packages (from langchain==0.3.10) (8.5.0)\n",
            "Requirement already satisfied: aiohappyeyeballs>=2.5.0 in /usr/local/lib/python3.12/dist-packages (from aiohttp<4.0.0,>=3.8.3->langchain==0.3.10) (2.6.1)\n",
            "Requirement already satisfied: aiosignal>=1.4.0 in /usr/local/lib/python3.12/dist-packages (from aiohttp<4.0.0,>=3.8.3->langchain==0.3.10) (1.4.0)\n",
            "Requirement already satisfied: attrs>=17.3.0 in /usr/local/lib/python3.12/dist-packages (from aiohttp<4.0.0,>=3.8.3->langchain==0.3.10) (25.3.0)\n",
            "Requirement already satisfied: frozenlist>=1.1.1 in /usr/local/lib/python3.12/dist-packages (from aiohttp<4.0.0,>=3.8.3->langchain==0.3.10) (1.7.0)\n",
            "Requirement already satisfied: multidict<7.0,>=4.5 in /usr/local/lib/python3.12/dist-packages (from aiohttp<4.0.0,>=3.8.3->langchain==0.3.10) (6.6.4)\n",
            "Requirement already satisfied: propcache>=0.2.0 in /usr/local/lib/python3.12/dist-packages (from aiohttp<4.0.0,>=3.8.3->langchain==0.3.10) (0.3.2)\n",
            "Requirement already satisfied: yarl<2.0,>=1.17.0 in /usr/local/lib/python3.12/dist-packages (from aiohttp<4.0.0,>=3.8.3->langchain==0.3.10) (1.20.1)\n",
            "Requirement already satisfied: jsonpatch<2.0,>=1.33 in /usr/local/lib/python3.12/dist-packages (from langchain-core<0.4.0,>=0.3.22->langchain==0.3.10) (1.33)\n",
            "Requirement already satisfied: packaging<25,>=23.2 in /usr/local/lib/python3.12/dist-packages (from langchain-core<0.4.0,>=0.3.22->langchain==0.3.10) (24.2)\n",
            "Requirement already satisfied: typing-extensions>=4.7 in /usr/local/lib/python3.12/dist-packages (from langchain-core<0.4.0,>=0.3.22->langchain==0.3.10) (4.14.1)\n",
            "Requirement already satisfied: httpx<1,>=0.23.0 in /usr/local/lib/python3.12/dist-packages (from langsmith<0.2.0,>=0.1.17->langchain==0.3.10) (0.28.1)\n",
            "Requirement already satisfied: orjson<4.0.0,>=3.9.14 in /usr/local/lib/python3.12/dist-packages (from langsmith<0.2.0,>=0.1.17->langchain==0.3.10) (3.11.2)\n",
            "Requirement already satisfied: requests-toolbelt<2.0.0,>=1.0.0 in /usr/local/lib/python3.12/dist-packages (from langsmith<0.2.0,>=0.1.17->langchain==0.3.10) (1.0.0)\n",
            "Requirement already satisfied: annotated-types>=0.6.0 in /usr/local/lib/python3.12/dist-packages (from pydantic<3.0.0,>=2.7.4->langchain==0.3.10) (0.7.0)\n",
            "Requirement already satisfied: pydantic-core==2.33.2 in /usr/local/lib/python3.12/dist-packages (from pydantic<3.0.0,>=2.7.4->langchain==0.3.10) (2.33.2)\n",
            "Requirement already satisfied: typing-inspection>=0.4.0 in /usr/local/lib/python3.12/dist-packages (from pydantic<3.0.0,>=2.7.4->langchain==0.3.10) (0.4.1)\n",
            "Requirement already satisfied: charset_normalizer<4,>=2 in /usr/local/lib/python3.12/dist-packages (from requests<3,>=2->langchain==0.3.10) (3.4.3)\n",
            "Requirement already satisfied: idna<4,>=2.5 in /usr/local/lib/python3.12/dist-packages (from requests<3,>=2->langchain==0.3.10) (3.10)\n",
            "Requirement already satisfied: urllib3<3,>=1.21.1 in /usr/local/lib/python3.12/dist-packages (from requests<3,>=2->langchain==0.3.10) (2.5.0)\n",
            "Requirement already satisfied: certifi>=2017.4.17 in /usr/local/lib/python3.12/dist-packages (from requests<3,>=2->langchain==0.3.10) (2025.8.3)\n",
            "Requirement already satisfied: greenlet>=1 in /usr/local/lib/python3.12/dist-packages (from SQLAlchemy<3,>=1.4->langchain==0.3.10) (3.2.4)\n",
            "Requirement already satisfied: anyio in /usr/local/lib/python3.12/dist-packages (from httpx<1,>=0.23.0->langsmith<0.2.0,>=0.1.17->langchain==0.3.10) (4.10.0)\n",
            "Requirement already satisfied: httpcore==1.* in /usr/local/lib/python3.12/dist-packages (from httpx<1,>=0.23.0->langsmith<0.2.0,>=0.1.17->langchain==0.3.10) (1.0.9)\n",
            "Requirement already satisfied: h11>=0.16 in /usr/local/lib/python3.12/dist-packages (from httpcore==1.*->httpx<1,>=0.23.0->langsmith<0.2.0,>=0.1.17->langchain==0.3.10) (0.16.0)\n",
            "Requirement already satisfied: jsonpointer>=1.9 in /usr/local/lib/python3.12/dist-packages (from jsonpatch<2.0,>=1.33->langchain-core<0.4.0,>=0.3.22->langchain==0.3.10) (3.0.0)\n",
            "Requirement already satisfied: sniffio>=1.1 in /usr/local/lib/python3.12/dist-packages (from anyio->httpx<1,>=0.23.0->langsmith<0.2.0,>=0.1.17->langchain==0.3.10) (1.3.1)\n",
            "Requirement already satisfied: langchain-openai==0.2.12 in /usr/local/lib/python3.12/dist-packages (0.2.12)\n",
            "Requirement already satisfied: langchain-core<0.4.0,>=0.3.21 in /usr/local/lib/python3.12/dist-packages (from langchain-openai==0.2.12) (0.3.63)\n",
            "Requirement already satisfied: openai<2.0.0,>=1.55.3 in /usr/local/lib/python3.12/dist-packages (from langchain-openai==0.2.12) (1.100.0)\n",
            "Requirement already satisfied: tiktoken<1,>=0.7 in /usr/local/lib/python3.12/dist-packages (from langchain-openai==0.2.12) (0.11.0)\n",
            "Requirement already satisfied: langsmith<0.4,>=0.1.126 in /usr/local/lib/python3.12/dist-packages (from langchain-core<0.4.0,>=0.3.21->langchain-openai==0.2.12) (0.1.147)\n",
            "Requirement already satisfied: tenacity!=8.4.0,<10.0.0,>=8.1.0 in /usr/local/lib/python3.12/dist-packages (from langchain-core<0.4.0,>=0.3.21->langchain-openai==0.2.12) (8.5.0)\n",
            "Requirement already satisfied: jsonpatch<2.0,>=1.33 in /usr/local/lib/python3.12/dist-packages (from langchain-core<0.4.0,>=0.3.21->langchain-openai==0.2.12) (1.33)\n",
            "Requirement already satisfied: PyYAML>=5.3 in /usr/local/lib/python3.12/dist-packages (from langchain-core<0.4.0,>=0.3.21->langchain-openai==0.2.12) (6.0.2)\n",
            "Requirement already satisfied: packaging<25,>=23.2 in /usr/local/lib/python3.12/dist-packages (from langchain-core<0.4.0,>=0.3.21->langchain-openai==0.2.12) (24.2)\n",
            "Requirement already satisfied: typing-extensions>=4.7 in /usr/local/lib/python3.12/dist-packages (from langchain-core<0.4.0,>=0.3.21->langchain-openai==0.2.12) (4.14.1)\n",
            "Requirement already satisfied: pydantic>=2.7.4 in /usr/local/lib/python3.12/dist-packages (from langchain-core<0.4.0,>=0.3.21->langchain-openai==0.2.12) (2.11.7)\n",
            "Requirement already satisfied: anyio<5,>=3.5.0 in /usr/local/lib/python3.12/dist-packages (from openai<2.0.0,>=1.55.3->langchain-openai==0.2.12) (4.10.0)\n",
            "Requirement already satisfied: distro<2,>=1.7.0 in /usr/local/lib/python3.12/dist-packages (from openai<2.0.0,>=1.55.3->langchain-openai==0.2.12) (1.9.0)\n",
            "Requirement already satisfied: httpx<1,>=0.23.0 in /usr/local/lib/python3.12/dist-packages (from openai<2.0.0,>=1.55.3->langchain-openai==0.2.12) (0.28.1)\n",
            "Requirement already satisfied: jiter<1,>=0.4.0 in /usr/local/lib/python3.12/dist-packages (from openai<2.0.0,>=1.55.3->langchain-openai==0.2.12) (0.10.0)\n",
            "Requirement already satisfied: sniffio in /usr/local/lib/python3.12/dist-packages (from openai<2.0.0,>=1.55.3->langchain-openai==0.2.12) (1.3.1)\n",
            "Requirement already satisfied: tqdm>4 in /usr/local/lib/python3.12/dist-packages (from openai<2.0.0,>=1.55.3->langchain-openai==0.2.12) (4.67.1)\n",
            "Requirement already satisfied: regex>=2022.1.18 in /usr/local/lib/python3.12/dist-packages (from tiktoken<1,>=0.7->langchain-openai==0.2.12) (2024.11.6)\n",
            "Requirement already satisfied: requests>=2.26.0 in /usr/local/lib/python3.12/dist-packages (from tiktoken<1,>=0.7->langchain-openai==0.2.12) (2.32.4)\n",
            "Requirement already satisfied: idna>=2.8 in /usr/local/lib/python3.12/dist-packages (from anyio<5,>=3.5.0->openai<2.0.0,>=1.55.3->langchain-openai==0.2.12) (3.10)\n",
            "Requirement already satisfied: certifi in /usr/local/lib/python3.12/dist-packages (from httpx<1,>=0.23.0->openai<2.0.0,>=1.55.3->langchain-openai==0.2.12) (2025.8.3)\n",
            "Requirement already satisfied: httpcore==1.* in /usr/local/lib/python3.12/dist-packages (from httpx<1,>=0.23.0->openai<2.0.0,>=1.55.3->langchain-openai==0.2.12) (1.0.9)\n",
            "Requirement already satisfied: h11>=0.16 in /usr/local/lib/python3.12/dist-packages (from httpcore==1.*->httpx<1,>=0.23.0->openai<2.0.0,>=1.55.3->langchain-openai==0.2.12) (0.16.0)\n",
            "Requirement already satisfied: jsonpointer>=1.9 in /usr/local/lib/python3.12/dist-packages (from jsonpatch<2.0,>=1.33->langchain-core<0.4.0,>=0.3.21->langchain-openai==0.2.12) (3.0.0)\n",
            "Requirement already satisfied: orjson<4.0.0,>=3.9.14 in /usr/local/lib/python3.12/dist-packages (from langsmith<0.4,>=0.1.126->langchain-core<0.4.0,>=0.3.21->langchain-openai==0.2.12) (3.11.2)\n",
            "Requirement already satisfied: requests-toolbelt<2.0.0,>=1.0.0 in /usr/local/lib/python3.12/dist-packages (from langsmith<0.4,>=0.1.126->langchain-core<0.4.0,>=0.3.21->langchain-openai==0.2.12) (1.0.0)\n",
            "Requirement already satisfied: annotated-types>=0.6.0 in /usr/local/lib/python3.12/dist-packages (from pydantic>=2.7.4->langchain-core<0.4.0,>=0.3.21->langchain-openai==0.2.12) (0.7.0)\n",
            "Requirement already satisfied: pydantic-core==2.33.2 in /usr/local/lib/python3.12/dist-packages (from pydantic>=2.7.4->langchain-core<0.4.0,>=0.3.21->langchain-openai==0.2.12) (2.33.2)\n",
            "Requirement already satisfied: typing-inspection>=0.4.0 in /usr/local/lib/python3.12/dist-packages (from pydantic>=2.7.4->langchain-core<0.4.0,>=0.3.21->langchain-openai==0.2.12) (0.4.1)\n",
            "Requirement already satisfied: charset_normalizer<4,>=2 in /usr/local/lib/python3.12/dist-packages (from requests>=2.26.0->tiktoken<1,>=0.7->langchain-openai==0.2.12) (3.4.3)\n",
            "Requirement already satisfied: urllib3<3,>=1.21.1 in /usr/local/lib/python3.12/dist-packages (from requests>=2.26.0->tiktoken<1,>=0.7->langchain-openai==0.2.12) (2.5.0)\n",
            "Requirement already satisfied: langchain-community==0.3.11 in /usr/local/lib/python3.12/dist-packages (0.3.11)\n",
            "Requirement already satisfied: PyYAML>=5.3 in /usr/local/lib/python3.12/dist-packages (from langchain-community==0.3.11) (6.0.2)\n",
            "Requirement already satisfied: SQLAlchemy<3,>=1.4 in /usr/local/lib/python3.12/dist-packages (from langchain-community==0.3.11) (2.0.43)\n",
            "Requirement already satisfied: aiohttp<4.0.0,>=3.8.3 in /usr/local/lib/python3.12/dist-packages (from langchain-community==0.3.11) (3.12.15)\n",
            "Requirement already satisfied: dataclasses-json<0.7,>=0.5.7 in /usr/local/lib/python3.12/dist-packages (from langchain-community==0.3.11) (0.6.7)\n",
            "Requirement already satisfied: httpx-sse<0.5.0,>=0.4.0 in /usr/local/lib/python3.12/dist-packages (from langchain-community==0.3.11) (0.4.1)\n",
            "Collecting langchain<0.4.0,>=0.3.11 (from langchain-community==0.3.11)\n",
            "  Using cached langchain-0.3.27-py3-none-any.whl.metadata (7.8 kB)\n",
            "Requirement already satisfied: langchain-core<0.4.0,>=0.3.24 in /usr/local/lib/python3.12/dist-packages (from langchain-community==0.3.11) (0.3.63)\n",
            "Requirement already satisfied: langsmith<0.3,>=0.1.125 in /usr/local/lib/python3.12/dist-packages (from langchain-community==0.3.11) (0.1.147)\n",
            "Requirement already satisfied: numpy<3,>=1.26.2 in /usr/local/lib/python3.12/dist-packages (from langchain-community==0.3.11) (2.0.2)\n",
            "Requirement already satisfied: pydantic-settings<3.0.0,>=2.4.0 in /usr/local/lib/python3.12/dist-packages (from langchain-community==0.3.11) (2.10.1)\n",
            "Requirement already satisfied: requests<3,>=2 in /usr/local/lib/python3.12/dist-packages (from langchain-community==0.3.11) (2.32.4)\n",
            "Requirement already satisfied: tenacity!=8.4.0,<10,>=8.1.0 in /usr/local/lib/python3.12/dist-packages (from langchain-community==0.3.11) (8.5.0)\n",
            "Requirement already satisfied: aiohappyeyeballs>=2.5.0 in /usr/local/lib/python3.12/dist-packages (from aiohttp<4.0.0,>=3.8.3->langchain-community==0.3.11) (2.6.1)\n",
            "Requirement already satisfied: aiosignal>=1.4.0 in /usr/local/lib/python3.12/dist-packages (from aiohttp<4.0.0,>=3.8.3->langchain-community==0.3.11) (1.4.0)\n",
            "Requirement already satisfied: attrs>=17.3.0 in /usr/local/lib/python3.12/dist-packages (from aiohttp<4.0.0,>=3.8.3->langchain-community==0.3.11) (25.3.0)\n",
            "Requirement already satisfied: frozenlist>=1.1.1 in /usr/local/lib/python3.12/dist-packages (from aiohttp<4.0.0,>=3.8.3->langchain-community==0.3.11) (1.7.0)\n",
            "Requirement already satisfied: multidict<7.0,>=4.5 in /usr/local/lib/python3.12/dist-packages (from aiohttp<4.0.0,>=3.8.3->langchain-community==0.3.11) (6.6.4)\n",
            "Requirement already satisfied: propcache>=0.2.0 in /usr/local/lib/python3.12/dist-packages (from aiohttp<4.0.0,>=3.8.3->langchain-community==0.3.11) (0.3.2)\n",
            "Requirement already satisfied: yarl<2.0,>=1.17.0 in /usr/local/lib/python3.12/dist-packages (from aiohttp<4.0.0,>=3.8.3->langchain-community==0.3.11) (1.20.1)\n",
            "Requirement already satisfied: marshmallow<4.0.0,>=3.18.0 in /usr/local/lib/python3.12/dist-packages (from dataclasses-json<0.7,>=0.5.7->langchain-community==0.3.11) (3.26.1)\n",
            "Requirement already satisfied: typing-inspect<1,>=0.4.0 in /usr/local/lib/python3.12/dist-packages (from dataclasses-json<0.7,>=0.5.7->langchain-community==0.3.11) (0.9.0)\n",
            "Collecting langchain-core<0.4.0,>=0.3.24 (from langchain-community==0.3.11)\n",
            "  Using cached langchain_core-0.3.74-py3-none-any.whl.metadata (5.8 kB)\n",
            "Collecting langchain-text-splitters<1.0.0,>=0.3.9 (from langchain<0.4.0,>=0.3.11->langchain-community==0.3.11)\n",
            "  Using cached langchain_text_splitters-0.3.9-py3-none-any.whl.metadata (1.9 kB)\n",
            "Requirement already satisfied: pydantic<3.0.0,>=2.7.4 in /usr/local/lib/python3.12/dist-packages (from langchain<0.4.0,>=0.3.11->langchain-community==0.3.11) (2.11.7)\n",
            "INFO: pip is looking at multiple versions of langchain-core to determine which version is compatible with other requirements. This could take a while.\n",
            "Collecting langchain-core<0.4.0,>=0.3.24 (from langchain-community==0.3.11)\n",
            "  Using cached langchain_core-0.3.73-py3-none-any.whl.metadata (5.8 kB)\n",
            "  Using cached langchain_core-0.3.72-py3-none-any.whl.metadata (5.8 kB)\n",
            "Collecting langchain<0.4.0,>=0.3.11 (from langchain-community==0.3.11)\n",
            "  Using cached langchain-0.3.26-py3-none-any.whl.metadata (7.8 kB)\n",
            "Requirement already satisfied: langchain-text-splitters<1.0.0,>=0.3.8 in /usr/local/lib/python3.12/dist-packages (from langchain<0.4.0,>=0.3.11->langchain-community==0.3.11) (0.3.8)\n",
            "Collecting langchain-core<0.4.0,>=0.3.24 (from langchain-community==0.3.11)\n",
            "  Using cached langchain_core-0.3.71-py3-none-any.whl.metadata (5.8 kB)\n",
            "  Using cached langchain_core-0.3.70-py3-none-any.whl.metadata (5.8 kB)\n",
            "INFO: pip is still looking at multiple versions of langchain-core to determine which version is compatible with other requirements. This could take a while.\n",
            "  Using cached langchain_core-0.3.69-py3-none-any.whl.metadata (5.8 kB)\n",
            "  Using cached langchain_core-0.3.68-py3-none-any.whl.metadata (5.8 kB)\n",
            "  Using cached langchain_core-0.3.67-py3-none-any.whl.metadata (5.8 kB)\n",
            "  Using cached langchain_core-0.3.66-py3-none-any.whl.metadata (5.8 kB)\n",
            "Collecting langchain<0.4.0,>=0.3.11 (from langchain-community==0.3.11)\n",
            "  Using cached langchain-0.3.25-py3-none-any.whl.metadata (7.8 kB)\n",
            "Requirement already satisfied: jsonpatch<2.0,>=1.33 in /usr/local/lib/python3.12/dist-packages (from langchain-core<0.4.0,>=0.3.24->langchain-community==0.3.11) (1.33)\n",
            "Requirement already satisfied: packaging<25,>=23.2 in /usr/local/lib/python3.12/dist-packages (from langchain-core<0.4.0,>=0.3.24->langchain-community==0.3.11) (24.2)\n",
            "Requirement already satisfied: typing-extensions>=4.7 in /usr/local/lib/python3.12/dist-packages (from langchain-core<0.4.0,>=0.3.24->langchain-community==0.3.11) (4.14.1)\n",
            "Requirement already satisfied: httpx<1,>=0.23.0 in /usr/local/lib/python3.12/dist-packages (from langsmith<0.3,>=0.1.125->langchain-community==0.3.11) (0.28.1)\n",
            "Requirement already satisfied: orjson<4.0.0,>=3.9.14 in /usr/local/lib/python3.12/dist-packages (from langsmith<0.3,>=0.1.125->langchain-community==0.3.11) (3.11.2)\n",
            "Requirement already satisfied: requests-toolbelt<2.0.0,>=1.0.0 in /usr/local/lib/python3.12/dist-packages (from langsmith<0.3,>=0.1.125->langchain-community==0.3.11) (1.0.0)\n",
            "Requirement already satisfied: python-dotenv>=0.21.0 in /usr/local/lib/python3.12/dist-packages (from pydantic-settings<3.0.0,>=2.4.0->langchain-community==0.3.11) (1.1.1)\n",
            "Requirement already satisfied: typing-inspection>=0.4.0 in /usr/local/lib/python3.12/dist-packages (from pydantic-settings<3.0.0,>=2.4.0->langchain-community==0.3.11) (0.4.1)\n",
            "Requirement already satisfied: charset_normalizer<4,>=2 in /usr/local/lib/python3.12/dist-packages (from requests<3,>=2->langchain-community==0.3.11) (3.4.3)\n",
            "Requirement already satisfied: idna<4,>=2.5 in /usr/local/lib/python3.12/dist-packages (from requests<3,>=2->langchain-community==0.3.11) (3.10)\n",
            "Requirement already satisfied: urllib3<3,>=1.21.1 in /usr/local/lib/python3.12/dist-packages (from requests<3,>=2->langchain-community==0.3.11) (2.5.0)\n",
            "Requirement already satisfied: certifi>=2017.4.17 in /usr/local/lib/python3.12/dist-packages (from requests<3,>=2->langchain-community==0.3.11) (2025.8.3)\n",
            "Requirement already satisfied: greenlet>=1 in /usr/local/lib/python3.12/dist-packages (from SQLAlchemy<3,>=1.4->langchain-community==0.3.11) (3.2.4)\n",
            "Requirement already satisfied: anyio in /usr/local/lib/python3.12/dist-packages (from httpx<1,>=0.23.0->langsmith<0.3,>=0.1.125->langchain-community==0.3.11) (4.10.0)\n",
            "Requirement already satisfied: httpcore==1.* in /usr/local/lib/python3.12/dist-packages (from httpx<1,>=0.23.0->langsmith<0.3,>=0.1.125->langchain-community==0.3.11) (1.0.9)\n",
            "Requirement already satisfied: h11>=0.16 in /usr/local/lib/python3.12/dist-packages (from httpcore==1.*->httpx<1,>=0.23.0->langsmith<0.3,>=0.1.125->langchain-community==0.3.11) (0.16.0)\n",
            "Requirement already satisfied: jsonpointer>=1.9 in /usr/local/lib/python3.12/dist-packages (from jsonpatch<2.0,>=1.33->langchain-core<0.4.0,>=0.3.24->langchain-community==0.3.11) (3.0.0)\n",
            "Requirement already satisfied: annotated-types>=0.6.0 in /usr/local/lib/python3.12/dist-packages (from pydantic<3.0.0,>=2.7.4->langchain<0.4.0,>=0.3.11->langchain-community==0.3.11) (0.7.0)\n",
            "Requirement already satisfied: pydantic-core==2.33.2 in /usr/local/lib/python3.12/dist-packages (from pydantic<3.0.0,>=2.7.4->langchain<0.4.0,>=0.3.11->langchain-community==0.3.11) (2.33.2)\n",
            "Requirement already satisfied: mypy-extensions>=0.3.0 in /usr/local/lib/python3.12/dist-packages (from typing-inspect<1,>=0.4.0->dataclasses-json<0.7,>=0.5.7->langchain-community==0.3.11) (1.1.0)\n",
            "Requirement already satisfied: sniffio>=1.1 in /usr/local/lib/python3.12/dist-packages (from anyio->httpx<1,>=0.23.0->langsmith<0.3,>=0.1.125->langchain-community==0.3.11) (1.3.1)\n",
            "Using cached langchain-0.3.25-py3-none-any.whl (1.0 MB)\n",
            "Installing collected packages: langchain\n",
            "  Attempting uninstall: langchain\n",
            "    Found existing installation: langchain 0.3.10\n",
            "    Uninstalling langchain-0.3.10:\n",
            "      Successfully uninstalled langchain-0.3.10\n",
            "Successfully installed langchain-0.3.25\n",
            "Requirement already satisfied: google-generativeai==0.8.3 in /usr/local/lib/python3.12/dist-packages (0.8.3)\n",
            "Collecting google-ai-generativelanguage==0.6.10 (from google-generativeai==0.8.3)\n",
            "  Using cached google_ai_generativelanguage-0.6.10-py3-none-any.whl.metadata (5.6 kB)\n",
            "Requirement already satisfied: google-api-core in /usr/local/lib/python3.12/dist-packages (from google-generativeai==0.8.3) (2.25.1)\n",
            "Requirement already satisfied: google-api-python-client in /usr/local/lib/python3.12/dist-packages (from google-generativeai==0.8.3) (2.179.0)\n",
            "Requirement already satisfied: google-auth>=2.15.0 in /usr/local/lib/python3.12/dist-packages (from google-generativeai==0.8.3) (2.38.0)\n",
            "Requirement already satisfied: protobuf in /usr/local/lib/python3.12/dist-packages (from google-generativeai==0.8.3) (5.29.5)\n",
            "Requirement already satisfied: pydantic in /usr/local/lib/python3.12/dist-packages (from google-generativeai==0.8.3) (2.11.7)\n",
            "Requirement already satisfied: tqdm in /usr/local/lib/python3.12/dist-packages (from google-generativeai==0.8.3) (4.67.1)\n",
            "Requirement already satisfied: typing-extensions in /usr/local/lib/python3.12/dist-packages (from google-generativeai==0.8.3) (4.14.1)\n",
            "Requirement already satisfied: proto-plus<2.0.0dev,>=1.22.3 in /usr/local/lib/python3.12/dist-packages (from google-ai-generativelanguage==0.6.10->google-generativeai==0.8.3) (1.26.1)\n",
            "Requirement already satisfied: googleapis-common-protos<2.0.0,>=1.56.2 in /usr/local/lib/python3.12/dist-packages (from google-api-core->google-generativeai==0.8.3) (1.70.0)\n",
            "Requirement already satisfied: requests<3.0.0,>=2.18.0 in /usr/local/lib/python3.12/dist-packages (from google-api-core->google-generativeai==0.8.3) (2.32.4)\n",
            "Requirement already satisfied: cachetools<6.0,>=2.0.0 in /usr/local/lib/python3.12/dist-packages (from google-auth>=2.15.0->google-generativeai==0.8.3) (5.5.2)\n",
            "Requirement already satisfied: pyasn1-modules>=0.2.1 in /usr/local/lib/python3.12/dist-packages (from google-auth>=2.15.0->google-generativeai==0.8.3) (0.4.2)\n",
            "Requirement already satisfied: rsa<5,>=3.1.4 in /usr/local/lib/python3.12/dist-packages (from google-auth>=2.15.0->google-generativeai==0.8.3) (4.9.1)\n",
            "Requirement already satisfied: httplib2<1.0.0,>=0.19.0 in /usr/local/lib/python3.12/dist-packages (from google-api-python-client->google-generativeai==0.8.3) (0.22.0)\n",
            "Requirement already satisfied: google-auth-httplib2<1.0.0,>=0.2.0 in /usr/local/lib/python3.12/dist-packages (from google-api-python-client->google-generativeai==0.8.3) (0.2.0)\n",
            "Requirement already satisfied: uritemplate<5,>=3.0.1 in /usr/local/lib/python3.12/dist-packages (from google-api-python-client->google-generativeai==0.8.3) (4.2.0)\n",
            "Requirement already satisfied: annotated-types>=0.6.0 in /usr/local/lib/python3.12/dist-packages (from pydantic->google-generativeai==0.8.3) (0.7.0)\n",
            "Requirement already satisfied: pydantic-core==2.33.2 in /usr/local/lib/python3.12/dist-packages (from pydantic->google-generativeai==0.8.3) (2.33.2)\n",
            "Requirement already satisfied: typing-inspection>=0.4.0 in /usr/local/lib/python3.12/dist-packages (from pydantic->google-generativeai==0.8.3) (0.4.1)\n",
            "Requirement already satisfied: grpcio<2.0.0,>=1.33.2 in /usr/local/lib/python3.12/dist-packages (from google-api-core[grpc]!=2.0.*,!=2.1.*,!=2.10.*,!=2.2.*,!=2.3.*,!=2.4.*,!=2.5.*,!=2.6.*,!=2.7.*,!=2.8.*,!=2.9.*,<3.0.0dev,>=1.34.1->google-ai-generativelanguage==0.6.10->google-generativeai==0.8.3) (1.74.0)\n",
            "Requirement already satisfied: grpcio-status<2.0.0,>=1.33.2 in /usr/local/lib/python3.12/dist-packages (from google-api-core[grpc]!=2.0.*,!=2.1.*,!=2.10.*,!=2.2.*,!=2.3.*,!=2.4.*,!=2.5.*,!=2.6.*,!=2.7.*,!=2.8.*,!=2.9.*,<3.0.0dev,>=1.34.1->google-ai-generativelanguage==0.6.10->google-generativeai==0.8.3) (1.71.2)\n",
            "Requirement already satisfied: pyparsing!=3.0.0,!=3.0.1,!=3.0.2,!=3.0.3,<4,>=2.4.2 in /usr/local/lib/python3.12/dist-packages (from httplib2<1.0.0,>=0.19.0->google-api-python-client->google-generativeai==0.8.3) (3.2.3)\n",
            "Requirement already satisfied: pyasn1<0.7.0,>=0.6.1 in /usr/local/lib/python3.12/dist-packages (from pyasn1-modules>=0.2.1->google-auth>=2.15.0->google-generativeai==0.8.3) (0.6.1)\n",
            "Requirement already satisfied: charset_normalizer<4,>=2 in /usr/local/lib/python3.12/dist-packages (from requests<3.0.0,>=2.18.0->google-api-core->google-generativeai==0.8.3) (3.4.3)\n",
            "Requirement already satisfied: idna<4,>=2.5 in /usr/local/lib/python3.12/dist-packages (from requests<3.0.0,>=2.18.0->google-api-core->google-generativeai==0.8.3) (3.10)\n",
            "Requirement already satisfied: urllib3<3,>=1.21.1 in /usr/local/lib/python3.12/dist-packages (from requests<3.0.0,>=2.18.0->google-api-core->google-generativeai==0.8.3) (2.5.0)\n",
            "Requirement already satisfied: certifi>=2017.4.17 in /usr/local/lib/python3.12/dist-packages (from requests<3.0.0,>=2.18.0->google-api-core->google-generativeai==0.8.3) (2025.8.3)\n",
            "Using cached google_ai_generativelanguage-0.6.10-py3-none-any.whl (760 kB)\n",
            "Installing collected packages: google-ai-generativelanguage\n",
            "  Attempting uninstall: google-ai-generativelanguage\n",
            "    Found existing installation: google-ai-generativelanguage 0.6.18\n",
            "    Uninstalling google-ai-generativelanguage-0.6.18:\n",
            "      Successfully uninstalled google-ai-generativelanguage-0.6.18\n",
            "\u001b[31mERROR: pip's dependency resolver does not currently take into account all the packages that are installed. This behaviour is the source of the following dependency conflicts.\n",
            "langchain-google-genai 2.1.9 requires google-ai-generativelanguage<0.7.0,>=0.6.18, but you have google-ai-generativelanguage 0.6.10 which is incompatible.\n",
            "langchain-google-genai 2.1.9 requires langchain-core<0.4.0,>=0.3.68, but you have langchain-core 0.3.63 which is incompatible.\u001b[0m\u001b[31m\n",
            "\u001b[0mSuccessfully installed google-ai-generativelanguage-0.6.10\n"
          ]
        },
        {
          "output_type": "display_data",
          "data": {
            "application/vnd.colab-display-data+json": {
              "pip_warning": {
                "packages": [
                  "google"
                ]
              },
              "id": "819b5f58ef814286bd939754c6da1030"
            }
          },
          "metadata": {}
        },
        {
          "output_type": "stream",
          "name": "stdout",
          "text": [
            "Requirement already satisfied: langchain-google-genai in /usr/local/lib/python3.12/dist-packages (2.1.9)\n",
            "Requirement already satisfied: filetype<2.0.0,>=1.2.0 in /usr/local/lib/python3.12/dist-packages (from langchain-google-genai) (1.2.0)\n",
            "Collecting google-ai-generativelanguage<0.7.0,>=0.6.18 (from langchain-google-genai)\n",
            "  Using cached google_ai_generativelanguage-0.6.18-py3-none-any.whl.metadata (9.8 kB)\n",
            "Collecting langchain-core<0.4.0,>=0.3.68 (from langchain-google-genai)\n",
            "  Using cached langchain_core-0.3.74-py3-none-any.whl.metadata (5.8 kB)\n",
            "Requirement already satisfied: pydantic<3,>=2 in /usr/local/lib/python3.12/dist-packages (from langchain-google-genai) (2.11.7)\n",
            "Requirement already satisfied: google-api-core!=2.0.*,!=2.1.*,!=2.10.*,!=2.2.*,!=2.3.*,!=2.4.*,!=2.5.*,!=2.6.*,!=2.7.*,!=2.8.*,!=2.9.*,<3.0.0,>=1.34.1 in /usr/local/lib/python3.12/dist-packages (from google-api-core[grpc]!=2.0.*,!=2.1.*,!=2.10.*,!=2.2.*,!=2.3.*,!=2.4.*,!=2.5.*,!=2.6.*,!=2.7.*,!=2.8.*,!=2.9.*,<3.0.0,>=1.34.1->google-ai-generativelanguage<0.7.0,>=0.6.18->langchain-google-genai) (2.25.1)\n",
            "Requirement already satisfied: google-auth!=2.24.0,!=2.25.0,<3.0.0,>=2.14.1 in /usr/local/lib/python3.12/dist-packages (from google-ai-generativelanguage<0.7.0,>=0.6.18->langchain-google-genai) (2.38.0)\n",
            "Requirement already satisfied: proto-plus<2.0.0,>=1.22.3 in /usr/local/lib/python3.12/dist-packages (from google-ai-generativelanguage<0.7.0,>=0.6.18->langchain-google-genai) (1.26.1)\n",
            "Requirement already satisfied: protobuf!=4.21.0,!=4.21.1,!=4.21.2,!=4.21.3,!=4.21.4,!=4.21.5,<7.0.0,>=3.20.2 in /usr/local/lib/python3.12/dist-packages (from google-ai-generativelanguage<0.7.0,>=0.6.18->langchain-google-genai) (5.29.5)\n",
            "Collecting langsmith>=0.3.45 (from langchain-core<0.4.0,>=0.3.68->langchain-google-genai)\n",
            "  Using cached langsmith-0.4.16-py3-none-any.whl.metadata (14 kB)\n",
            "Requirement already satisfied: tenacity!=8.4.0,<10.0.0,>=8.1.0 in /usr/local/lib/python3.12/dist-packages (from langchain-core<0.4.0,>=0.3.68->langchain-google-genai) (8.5.0)\n",
            "Requirement already satisfied: jsonpatch<2.0,>=1.33 in /usr/local/lib/python3.12/dist-packages (from langchain-core<0.4.0,>=0.3.68->langchain-google-genai) (1.33)\n",
            "Requirement already satisfied: PyYAML>=5.3 in /usr/local/lib/python3.12/dist-packages (from langchain-core<0.4.0,>=0.3.68->langchain-google-genai) (6.0.2)\n",
            "Requirement already satisfied: typing-extensions>=4.7 in /usr/local/lib/python3.12/dist-packages (from langchain-core<0.4.0,>=0.3.68->langchain-google-genai) (4.14.1)\n",
            "Requirement already satisfied: packaging>=23.2 in /usr/local/lib/python3.12/dist-packages (from langchain-core<0.4.0,>=0.3.68->langchain-google-genai) (24.2)\n",
            "Requirement already satisfied: annotated-types>=0.6.0 in /usr/local/lib/python3.12/dist-packages (from pydantic<3,>=2->langchain-google-genai) (0.7.0)\n",
            "Requirement already satisfied: pydantic-core==2.33.2 in /usr/local/lib/python3.12/dist-packages (from pydantic<3,>=2->langchain-google-genai) (2.33.2)\n",
            "Requirement already satisfied: typing-inspection>=0.4.0 in /usr/local/lib/python3.12/dist-packages (from pydantic<3,>=2->langchain-google-genai) (0.4.1)\n",
            "Requirement already satisfied: googleapis-common-protos<2.0.0,>=1.56.2 in /usr/local/lib/python3.12/dist-packages (from google-api-core!=2.0.*,!=2.1.*,!=2.10.*,!=2.2.*,!=2.3.*,!=2.4.*,!=2.5.*,!=2.6.*,!=2.7.*,!=2.8.*,!=2.9.*,<3.0.0,>=1.34.1->google-api-core[grpc]!=2.0.*,!=2.1.*,!=2.10.*,!=2.2.*,!=2.3.*,!=2.4.*,!=2.5.*,!=2.6.*,!=2.7.*,!=2.8.*,!=2.9.*,<3.0.0,>=1.34.1->google-ai-generativelanguage<0.7.0,>=0.6.18->langchain-google-genai) (1.70.0)\n",
            "Requirement already satisfied: requests<3.0.0,>=2.18.0 in /usr/local/lib/python3.12/dist-packages (from google-api-core!=2.0.*,!=2.1.*,!=2.10.*,!=2.2.*,!=2.3.*,!=2.4.*,!=2.5.*,!=2.6.*,!=2.7.*,!=2.8.*,!=2.9.*,<3.0.0,>=1.34.1->google-api-core[grpc]!=2.0.*,!=2.1.*,!=2.10.*,!=2.2.*,!=2.3.*,!=2.4.*,!=2.5.*,!=2.6.*,!=2.7.*,!=2.8.*,!=2.9.*,<3.0.0,>=1.34.1->google-ai-generativelanguage<0.7.0,>=0.6.18->langchain-google-genai) (2.32.4)\n",
            "Requirement already satisfied: grpcio<2.0.0,>=1.33.2 in /usr/local/lib/python3.12/dist-packages (from google-api-core[grpc]!=2.0.*,!=2.1.*,!=2.10.*,!=2.2.*,!=2.3.*,!=2.4.*,!=2.5.*,!=2.6.*,!=2.7.*,!=2.8.*,!=2.9.*,<3.0.0,>=1.34.1->google-ai-generativelanguage<0.7.0,>=0.6.18->langchain-google-genai) (1.74.0)\n",
            "Requirement already satisfied: grpcio-status<2.0.0,>=1.33.2 in /usr/local/lib/python3.12/dist-packages (from google-api-core[grpc]!=2.0.*,!=2.1.*,!=2.10.*,!=2.2.*,!=2.3.*,!=2.4.*,!=2.5.*,!=2.6.*,!=2.7.*,!=2.8.*,!=2.9.*,<3.0.0,>=1.34.1->google-ai-generativelanguage<0.7.0,>=0.6.18->langchain-google-genai) (1.71.2)\n",
            "Requirement already satisfied: cachetools<6.0,>=2.0.0 in /usr/local/lib/python3.12/dist-packages (from google-auth!=2.24.0,!=2.25.0,<3.0.0,>=2.14.1->google-ai-generativelanguage<0.7.0,>=0.6.18->langchain-google-genai) (5.5.2)\n",
            "Requirement already satisfied: pyasn1-modules>=0.2.1 in /usr/local/lib/python3.12/dist-packages (from google-auth!=2.24.0,!=2.25.0,<3.0.0,>=2.14.1->google-ai-generativelanguage<0.7.0,>=0.6.18->langchain-google-genai) (0.4.2)\n",
            "Requirement already satisfied: rsa<5,>=3.1.4 in /usr/local/lib/python3.12/dist-packages (from google-auth!=2.24.0,!=2.25.0,<3.0.0,>=2.14.1->google-ai-generativelanguage<0.7.0,>=0.6.18->langchain-google-genai) (4.9.1)\n",
            "Requirement already satisfied: jsonpointer>=1.9 in /usr/local/lib/python3.12/dist-packages (from jsonpatch<2.0,>=1.33->langchain-core<0.4.0,>=0.3.68->langchain-google-genai) (3.0.0)\n",
            "Requirement already satisfied: httpx<1,>=0.23.0 in /usr/local/lib/python3.12/dist-packages (from langsmith>=0.3.45->langchain-core<0.4.0,>=0.3.68->langchain-google-genai) (0.28.1)\n",
            "Requirement already satisfied: orjson>=3.9.14 in /usr/local/lib/python3.12/dist-packages (from langsmith>=0.3.45->langchain-core<0.4.0,>=0.3.68->langchain-google-genai) (3.11.2)\n",
            "Requirement already satisfied: requests-toolbelt>=1.0.0 in /usr/local/lib/python3.12/dist-packages (from langsmith>=0.3.45->langchain-core<0.4.0,>=0.3.68->langchain-google-genai) (1.0.0)\n",
            "Requirement already satisfied: zstandard>=0.23.0 in /usr/local/lib/python3.12/dist-packages (from langsmith>=0.3.45->langchain-core<0.4.0,>=0.3.68->langchain-google-genai) (0.24.0)\n",
            "Requirement already satisfied: anyio in /usr/local/lib/python3.12/dist-packages (from httpx<1,>=0.23.0->langsmith>=0.3.45->langchain-core<0.4.0,>=0.3.68->langchain-google-genai) (4.10.0)\n",
            "Requirement already satisfied: certifi in /usr/local/lib/python3.12/dist-packages (from httpx<1,>=0.23.0->langsmith>=0.3.45->langchain-core<0.4.0,>=0.3.68->langchain-google-genai) (2025.8.3)\n",
            "Requirement already satisfied: httpcore==1.* in /usr/local/lib/python3.12/dist-packages (from httpx<1,>=0.23.0->langsmith>=0.3.45->langchain-core<0.4.0,>=0.3.68->langchain-google-genai) (1.0.9)\n",
            "Requirement already satisfied: idna in /usr/local/lib/python3.12/dist-packages (from httpx<1,>=0.23.0->langsmith>=0.3.45->langchain-core<0.4.0,>=0.3.68->langchain-google-genai) (3.10)\n",
            "Requirement already satisfied: h11>=0.16 in /usr/local/lib/python3.12/dist-packages (from httpcore==1.*->httpx<1,>=0.23.0->langsmith>=0.3.45->langchain-core<0.4.0,>=0.3.68->langchain-google-genai) (0.16.0)\n",
            "Requirement already satisfied: pyasn1<0.7.0,>=0.6.1 in /usr/local/lib/python3.12/dist-packages (from pyasn1-modules>=0.2.1->google-auth!=2.24.0,!=2.25.0,<3.0.0,>=2.14.1->google-ai-generativelanguage<0.7.0,>=0.6.18->langchain-google-genai) (0.6.1)\n",
            "Requirement already satisfied: charset_normalizer<4,>=2 in /usr/local/lib/python3.12/dist-packages (from requests<3.0.0,>=2.18.0->google-api-core!=2.0.*,!=2.1.*,!=2.10.*,!=2.2.*,!=2.3.*,!=2.4.*,!=2.5.*,!=2.6.*,!=2.7.*,!=2.8.*,!=2.9.*,<3.0.0,>=1.34.1->google-api-core[grpc]!=2.0.*,!=2.1.*,!=2.10.*,!=2.2.*,!=2.3.*,!=2.4.*,!=2.5.*,!=2.6.*,!=2.7.*,!=2.8.*,!=2.9.*,<3.0.0,>=1.34.1->google-ai-generativelanguage<0.7.0,>=0.6.18->langchain-google-genai) (3.4.3)\n",
            "Requirement already satisfied: urllib3<3,>=1.21.1 in /usr/local/lib/python3.12/dist-packages (from requests<3.0.0,>=2.18.0->google-api-core!=2.0.*,!=2.1.*,!=2.10.*,!=2.2.*,!=2.3.*,!=2.4.*,!=2.5.*,!=2.6.*,!=2.7.*,!=2.8.*,!=2.9.*,<3.0.0,>=1.34.1->google-api-core[grpc]!=2.0.*,!=2.1.*,!=2.10.*,!=2.2.*,!=2.3.*,!=2.4.*,!=2.5.*,!=2.6.*,!=2.7.*,!=2.8.*,!=2.9.*,<3.0.0,>=1.34.1->google-ai-generativelanguage<0.7.0,>=0.6.18->langchain-google-genai) (2.5.0)\n",
            "Requirement already satisfied: sniffio>=1.1 in /usr/local/lib/python3.12/dist-packages (from anyio->httpx<1,>=0.23.0->langsmith>=0.3.45->langchain-core<0.4.0,>=0.3.68->langchain-google-genai) (1.3.1)\n",
            "Using cached google_ai_generativelanguage-0.6.18-py3-none-any.whl (1.4 MB)\n",
            "Using cached langchain_core-0.3.74-py3-none-any.whl (443 kB)\n",
            "Using cached langsmith-0.4.16-py3-none-any.whl (375 kB)\n",
            "Installing collected packages: langsmith, langchain-core, google-ai-generativelanguage\n",
            "  Attempting uninstall: langsmith\n",
            "    Found existing installation: langsmith 0.1.147\n",
            "    Uninstalling langsmith-0.1.147:\n",
            "      Successfully uninstalled langsmith-0.1.147\n",
            "  Attempting uninstall: langchain-core\n",
            "    Found existing installation: langchain-core 0.3.63\n",
            "    Uninstalling langchain-core-0.3.63:\n",
            "      Successfully uninstalled langchain-core-0.3.63\n",
            "  Attempting uninstall: google-ai-generativelanguage\n",
            "    Found existing installation: google-ai-generativelanguage 0.6.10\n",
            "    Uninstalling google-ai-generativelanguage-0.6.10:\n",
            "      Successfully uninstalled google-ai-generativelanguage-0.6.10\n",
            "\u001b[31mERROR: pip's dependency resolver does not currently take into account all the packages that are installed. This behaviour is the source of the following dependency conflicts.\n",
            "langchain-community 0.3.11 requires langsmith<0.3,>=0.1.125, but you have langsmith 0.4.16 which is incompatible.\n",
            "google-generativeai 0.8.3 requires google-ai-generativelanguage==0.6.10, but you have google-ai-generativelanguage 0.6.18 which is incompatible.\n",
            "langchain 0.3.25 requires langsmith<0.4,>=0.1.17, but you have langsmith 0.4.16 which is incompatible.\u001b[0m\u001b[31m\n",
            "\u001b[0mSuccessfully installed google-ai-generativelanguage-0.6.18 langchain-core-0.3.74 langsmith-0.4.16\n"
          ]
        },
        {
          "output_type": "display_data",
          "data": {
            "application/vnd.colab-display-data+json": {
              "pip_warning": {
                "packages": [
                  "google"
                ]
              },
              "id": "af81558437994ea180c9b5c02d89696b"
            }
          },
          "metadata": {}
        }
      ],
      "source": [
        "!pip install langchain==0.3.10\n",
        "!pip install langchain-openai==0.2.12\n",
        "!pip install langchain-community==0.3.11\n",
        "!pip install google-generativeai==0.8.3\n",
        "!pip install langchain-google-genai"
      ]
    },
    {
      "cell_type": "markdown",
      "metadata": {
        "id": "CiwGjVWK4q6F"
      },
      "source": [
        "## Load Gemini API Credentials\n",
        "\n",
        "Here we load it from get password function"
      ]
    },
    {
      "cell_type": "markdown",
      "metadata": {
        "id": "PtBa7rlWJWH3"
      },
      "source": [
        "## Enter API Tokens"
      ]
    },
    {
      "cell_type": "code",
      "execution_count": null,
      "metadata": {
        "id": "9ogxBkS6ZnnC",
        "colab": {
          "base_uri": "https://localhost:8080/"
        },
        "outputId": "21e9c29a-4484-454a-ac95-5ed699c2950b"
      },
      "outputs": [
        {
          "name": "stdout",
          "output_type": "stream",
          "text": [
            "Enter Gemini API Key:··········\n"
          ]
        }
      ],
      "source": [
        "from getpass import getpass\n",
        "\n",
        "GOOGLE_API_KEY = getpass('Enter Gemini API Key:')"
      ]
    },
    {
      "cell_type": "markdown",
      "source": [
        "## Configure Key in Environment"
      ],
      "metadata": {
        "id": "5Sh2I_WEh0af"
      }
    },
    {
      "cell_type": "code",
      "source": [
        "import os\n",
        "\n",
        "os.environ['GOOGLE_API_KEY'] = GOOGLE_API_KEY"
      ],
      "metadata": {
        "id": "9xH1TG4Ph4S0"
      },
      "execution_count": null,
      "outputs": []
    },
    {
      "cell_type": "code",
      "source": [
        "import google.generativeai as genai\n",
        "\n",
        "genai.configure(api_key=GOOGLE_API_KEY)\n",
        "\n",
        "for m in genai.list_models():\n",
        "  if 'generateContent' in m.supported_generation_methods:\n",
        "    print(m.name)"
      ],
      "metadata": {
        "colab": {
          "base_uri": "https://localhost:8080/",
          "height": 729
        },
        "collapsed": true,
        "id": "io332LaW0qUW",
        "outputId": "19ad3823-8516-4338-aab8-66ff7902e813"
      },
      "execution_count": null,
      "outputs": [
        {
          "output_type": "stream",
          "name": "stdout",
          "text": [
            "models/gemini-1.5-pro-latest\n",
            "models/gemini-1.5-pro-002\n",
            "models/gemini-1.5-pro\n",
            "models/gemini-1.5-flash-latest\n",
            "models/gemini-1.5-flash\n",
            "models/gemini-1.5-flash-002\n",
            "models/gemini-1.5-flash-8b\n",
            "models/gemini-1.5-flash-8b-001\n",
            "models/gemini-1.5-flash-8b-latest\n",
            "models/gemini-2.5-pro-preview-03-25\n",
            "models/gemini-2.5-flash-preview-05-20\n",
            "models/gemini-2.5-flash\n",
            "models/gemini-2.5-flash-lite-preview-06-17\n",
            "models/gemini-2.5-pro-preview-05-06\n",
            "models/gemini-2.5-pro-preview-06-05\n",
            "models/gemini-2.5-pro\n",
            "models/gemini-2.0-flash-exp\n",
            "models/gemini-2.0-flash\n",
            "models/gemini-2.0-flash-001\n",
            "models/gemini-2.0-flash-exp-image-generation\n",
            "models/gemini-2.0-flash-lite-001\n",
            "models/gemini-2.0-flash-lite\n",
            "models/gemini-2.0-flash-preview-image-generation\n",
            "models/gemini-2.0-flash-lite-preview-02-05\n",
            "models/gemini-2.0-flash-lite-preview\n",
            "models/gemini-2.0-pro-exp\n",
            "models/gemini-2.0-pro-exp-02-05\n",
            "models/gemini-exp-1206\n",
            "models/gemini-2.0-flash-thinking-exp-01-21\n",
            "models/gemini-2.0-flash-thinking-exp\n",
            "models/gemini-2.0-flash-thinking-exp-1219\n",
            "models/gemini-2.5-flash-preview-tts\n",
            "models/gemini-2.5-pro-preview-tts\n",
            "models/learnlm-2.0-flash-experimental\n",
            "models/gemma-3-1b-it\n",
            "models/gemma-3-4b-it\n",
            "models/gemma-3-12b-it\n",
            "models/gemma-3-27b-it\n",
            "models/gemma-3n-e4b-it\n",
            "models/gemma-3n-e2b-it\n",
            "models/gemini-2.5-flash-lite\n"
          ]
        }
      ]
    },
    {
      "cell_type": "markdown",
      "source": [
        "## Load Necessary Dependencies and ChatGPT LLM"
      ],
      "metadata": {
        "id": "978ksxjPUvFP"
      }
    },
    {
      "cell_type": "code",
      "source": [
        "generation_config = genai.types.GenerationConfig(\n",
        "    temperature=0\n",
        ")\n",
        "gemini = genai.GenerativeModel(model_name='gemini-1.5-flash',\n",
        "                               generation_config=generation_config)"
      ],
      "metadata": {
        "id": "EQ6BsdX30330"
      },
      "execution_count": null,
      "outputs": []
    },
    {
      "cell_type": "code",
      "source": [
        "from IPython.display import Markdown, display\n",
        "\n",
        "prompt = \"\"\"\n",
        "  Explain what is Generative AI in 3 bullet points\n",
        "\"\"\"\n",
        "\n",
        "response = gemini.generate_content(contents=prompt)\n",
        "display(Markdown(response.text))"
      ],
      "metadata": {
        "colab": {
          "base_uri": "https://localhost:8080/",
          "height": 145
        },
        "id": "AU0QPurM09qG",
        "outputId": "ec93cdcd-6e9e-4d3a-eab9-b816437698a5"
      },
      "execution_count": null,
      "outputs": [
        {
          "output_type": "display_data",
          "data": {
            "text/plain": [
              "<IPython.core.display.Markdown object>"
            ],
            "text/markdown": "* **Creates new content:** Generative AI uses algorithms to produce various forms of content, including text, images, audio, and video, rather than simply analyzing or classifying existing data.\n\n* **Learns from existing data:**  It's trained on massive datasets to learn patterns and structures, allowing it to generate outputs that resemble the training data but are novel and unique.\n\n* **Uses various techniques:**  Different generative AI models employ techniques like transformers, generative adversarial networks (GANs), and diffusion models to achieve content generation.\n"
          },
          "metadata": {}
        }
      ]
    },
    {
      "cell_type": "markdown",
      "source": [
        "## Persona Pattern"
      ],
      "metadata": {
        "id": "YvjOf7W_v35E"
      }
    },
    {
      "cell_type": "markdown",
      "source": [
        "The **Persona Pattern** in prompt engineering is a technique where you instruct the AI to **adopt a specific role, character, or identity** to shape its responses in a more targeted, creative, or authoritative way.\n",
        "\n",
        "## 🧠 What Is the Persona Pattern?\n",
        "\n",
        "You tell the AI to “act as” or “pretend to be” a particular persona — such as a doctor, historian, chef, or even a fictional character — and then give it a task. This helps the AI generate responses that reflect the tone, expertise, and perspective of that persona.\n",
        "\n",
        "\n",
        "### ✅ Benefits\n",
        "\n",
        "- 🎭 **Voice and Style Control**: Responses reflect the tone, vocabulary, and mindset of the chosen persona.\n",
        "- 🎯 **Targeted Expertise**: Useful for simulating specialists in fields like medicine, law, or education.\n",
        "- 🎨 **Creative Exploration**: Great for storytelling, roleplay, or historical reimaginings.\n",
        "- 🧠 **Enhanced Engagement**: Makes interactions more immersive and personalized.\n",
        "\n",
        "\n",
        "\n",
        "### ⚠️ Limitations\n",
        "\n",
        "- **May struggle with complex or ambiguous personas**  \n",
        "  If the persona isn’t clearly defined, the AI may default to generic behavior.\n",
        "\n",
        "- **Performance can vary depending on how well the prompt is written**  \n",
        "  Vague or inconsistent persona instructions can lead to off-target responses.\n",
        "\n",
        "- **Risk of stereotyping or oversimplification**  \n",
        "  The AI might rely on clichés or inaccurate portrayals of certain roles or identities."
      ],
      "metadata": {
        "id": "HxiU11602X13"
      }
    },
    {
      "cell_type": "code",
      "source": [
        "from IPython.display import display, Markdown\n",
        "\n",
        "prompt = \"\"\"Act as a marketing manager,\n",
        "            your task is to help a marketing team create an eye-catching advert\n",
        "            for a new smartphone product based on the following technical fact sheet.\n",
        "\n",
        "            Create an advert where you highlight the most important features\n",
        "            and briefly mention how they could be used with an example.\n",
        "            Try to captivate the audience with these examples.\n",
        "            Focus especially on the screen size, hardware, camera, battery life\n",
        "\n",
        "            PRODUCT NAME: Apple iPhone 15\n",
        "\n",
        "            PRODUCT SPECS:\n",
        "\n",
        "            NETWORK\tTechnology\n",
        "            GSM / CDMA / HSPA / EVDO / LTE / 5G\n",
        "            LAUNCH\tAnnounced\t2023, September 12\n",
        "            Status\tAvailable. Released 2023, September 22\n",
        "            BODY\tDimensions\t147.6 x 71.6 x 7.8 mm (5.81 x 2.82 x 0.31 in)\n",
        "            Weight\t171 g (6.03 oz)\n",
        "            Build\tGlass front (Corning-made glass), glass back (Corning-made glass), aluminum frame\n",
        "            SIM\tNano-SIM and eSIM - International\n",
        "            Dual eSIM with multiple numbers - USA\n",
        "            Dual SIM (Nano-SIM, dual stand-by) - China\n",
        "                IP68 dust/water resistant (up to 6m for 30 min)\n",
        "            Apple Pay (Visa, MasterCard, AMEX certified)\n",
        "            DISPLAY\tType\tSuper Retina XDR OLED, HDR10, Dolby Vision, 1000 nits (HBM), 2000 nits (peak)\n",
        "            Size\t6.1 inches, 91.3 cm2 (~86.4% screen-to-body ratio)\n",
        "            Resolution\t1179 x 2556 pixels, 19.5:9 ratio (~461 ppi density)\n",
        "            Protection\tCeramic Shield glass\n",
        "            PLATFORM\tOS\tiOS 17, upgradable to iOS 17.1\n",
        "            Chipset\tApple A16 Bionic (4 nm)\n",
        "            CPU\tHexa-core (2x3.46 GHz Everest + 4x2.02 GHz Sawtooth)\n",
        "            GPU\tApple GPU (5-core graphics)\n",
        "            MEMORY\tCard slot\tNo\n",
        "            Internal\t128GB 6GB RAM, 256GB 6GB RAM, 512GB 6GB RAM\n",
        "                NVMe\n",
        "            MAIN CAMERA\tDual\t48 MP, f/1.6, 26mm (wide), 1/1.56\", 1.0µm, dual pixel PDAF, sensor-shift OIS\n",
        "            12 MP, f/2.4, 13mm, 120˚ (ultrawide)\n",
        "            Features\tDual-LED dual-tone flash, HDR (photo/panorama)\n",
        "            Video\t4K@24/25/30/60fps, 1080p@25/30/60/120/240fps, HDR, Dolby Vision HDR (up to 60fps), Cinematic mode (4K@30fps), stereo sound rec.\n",
        "            SELFIE CAMERA\tSingle\t12 MP, f/1.9, 23mm (wide), 1/3.6\", PDAF\n",
        "            SL 3D, (depth/biometrics sensor)\n",
        "            Features\tHDR, Cinematic mode (4K@30fps)\n",
        "            Video\t4K@24/25/30/60fps, 1080p@25/30/60/120fps, gyro-EIS\n",
        "            SOUND\tLoudspeaker\tYes, with stereo speakers\n",
        "            3.5mm jack\tNo\n",
        "            COMMS\tWLAN\tWi-Fi 802.11 a/b/g/n/ac/6, dual-band, hotspot\n",
        "            Bluetooth\t5.3, A2DP, LE\n",
        "            Positioning\tGPS, GLONASS, GALILEO, BDS, QZSS\n",
        "            NFC\tYes\n",
        "            Radio\tNo\n",
        "            USB\tUSB Type-C 2.0, DisplayPort\n",
        "            FEATURES\tSensors\tFace ID, accelerometer, gyro, proximity, compass, barometer\n",
        "                Ultra Wideband 2 (UWB) support\n",
        "            Emergency SOS via satellite (SMS sending/receiving)\n",
        "            BATTERY\tType\tLi-Ion 3349 mAh, non-removable\n",
        "            Charging\tWired, PD2.0, 50% in 30 min (advertised)\n",
        "            15W wireless (MagSafe)\n",
        "            7.5W wireless (Qi)\n",
        "            4.5W reverse wired\n",
        "            MISC\tColors\tBlack, Blue, Green, Yellow, Pink\n",
        "            Models\tA3090, A2846, A3089, A3092, iPhone15,4\n",
        "            SAR\t1.12 W/kg (head)     1.14 W/kg (body)\n",
        "            SAR EU\t0.98 W/kg (head)     0.98 W/kg (body)\n",
        "            Price\t₹ 79,900 / £ 799.00 / € 949.00\n",
        "            TESTS\tPerformance\tAnTuTu: 1354651 (v10)\n",
        "            GeekBench: 6526 (v6)\n",
        "            GFXBench: 60fps (ES 3.1 onscreen)\n",
        "            Display\tContrast ratio: Infinite (nominal)\n",
        "            Camera\tPhoto / Video\n",
        "            Loudspeaker\t-26.2 LUFS (Good)\n",
        "            Battery life\n",
        "            Endurance rating 98h\n",
        "         \"\"\"\n",
        "\n",
        "response = gemini.generate_content(contents=prompt)\n",
        "display(Markdown(response.text))"
      ],
      "metadata": {
        "colab": {
          "base_uri": "https://localhost:8080/",
          "height": 790
        },
        "id": "zW1h6eeEv57r",
        "outputId": "d5d54433-301b-43ac-8d52-5e12c57ef8f4"
      },
      "execution_count": null,
      "outputs": [
        {
          "output_type": "display_data",
          "data": {
            "text/plain": [
              "<IPython.core.display.Markdown object>"
            ],
            "text/markdown": "## Option 1:  Focus on Cinematic Experience\n\n**(Image: Stunning close-up shot of the iPhone 15 showcasing its vibrant display, possibly capturing a breathtaking landscape or a captivating portrait.)**\n\n**Headline:**  **Unleash Your Inner Filmmaker. Introducing the iPhone 15.**\n\n**Body:**\n\n> Capture cinematic moments like never before with the iPhone 15.  Its breathtaking 6.1-inch Super Retina XDR display brings your photos and videos to life with incredible detail and vibrant colors.  The powerful A16 Bionic chip ensures smooth, lag-free performance, even when editing 4K Dolby Vision HDR video.  And with its advanced dual-camera system – featuring a 48MP main camera and a 120˚ ultrawide lens – you can capture stunning shots, from breathtaking landscapes to intimate portraits.  Plus, with all-day battery life, you can keep creating without interruption.  Imagine: shooting a time-lapse of the city lights at night, then effortlessly editing it on the go, all powered by the iPhone 15.  Pre-order yours today!\n\n\n## Option 2:  Focus on Speed and Power\n\n**(Image: Dynamic action shot showcasing the iPhone 15 in use, perhaps someone using it for gaming or a fast-paced activity.)**\n\n**Headline:**  **Power Beyond Limits. Introducing the iPhone 15.**\n\n**Body:**\n\n> Experience unparalleled speed and power with the iPhone 15.  The lightning-fast A16 Bionic chip handles even the most demanding tasks with ease.  From seamless multitasking to stunning graphics in your favorite games, the iPhone 15 delivers exceptional performance.  Its stunning 6.1-inch Super Retina XDR display makes everything look incredible, while the long-lasting battery keeps you powered up all day.  Capture breathtaking photos and videos with the advanced dual-camera system, featuring a 48MP main camera with sensor-shift OIS for incredibly sharp images, even in low light.  Imagine: downloading a massive game in seconds, then playing it without a single lag, all while capturing incredible gameplay footage.  The iPhone 15.  Power redefined.\n\n\n## Option 3:  Focus on Everyday Use and Convenience\n\n**(Image: Lifestyle shot showcasing the iPhone 15 seamlessly integrated into someone's daily life – perhaps checking emails on the go, using maps for navigation, or taking a quick photo of a friend.)**\n\n**Headline:**  **Your Everyday Essential, Elevated. Introducing the iPhone 15.**\n\n**Body:**\n\n> The iPhone 15 isn't just a phone; it's your everyday companion.  Its vibrant 6.1-inch Super Retina XDR display makes everything easier to see, from reading emails to navigating with maps.  The powerful A16 Bionic chip ensures smooth, responsive performance, while the all-day battery life keeps you connected throughout your day.  Capture stunning memories with the advanced dual-camera system, perfect for capturing everyday moments with incredible clarity.  And with its IP68 water resistance, you can rest assured knowing your phone can handle the unexpected.  Imagine: effortlessly navigating a new city, capturing a spontaneous moment with friends, and staying connected all day long, all with the iPhone 15.  It's more than a phone; it's your life, simplified.\n\n\n**In all options, include a clear call to action:**  Pre-order now! Visit [website address] to learn more.  Limited quantities available.\n\n\n**Note:**  These are just examples.  The best advert will depend on the target audience and the overall marketing strategy.  Consider A/B testing different versions to see which performs best.  High-quality visuals are crucial for success.\n"
          },
          "metadata": {}
        }
      ]
    },
    {
      "cell_type": "markdown",
      "source": [
        "## Flipped Interaction Pattern"
      ],
      "metadata": {
        "id": "N_zaTBytxaDo"
      }
    },
    {
      "cell_type": "markdown",
      "source": [
        "The **Flipped Interaction Pattern** is a prompt engineering technique where the usual roles in a conversation with an AI are reversed: **instead of you asking the AI questions**, the **AI asks you questions** to gather information and guide the process toward a specific goal.\n",
        "\n",
        "\n",
        "### 🔄 What Makes It “Flipped”?\n",
        "\n",
        "- **Traditional pattern**: You ask, the AI answers.\n",
        "- **Flipped pattern**: The AI asks, you answer — and it uses your responses to build toward a final output.\n",
        "\n",
        "\n",
        "### 🧠 Why Use It?\n",
        "\n",
        "This pattern is especially useful when:\n",
        "- You don’t know exactly what to ask.\n",
        "- You want to be guided through a process (e.g., building a fitness plan, writing a story, solving a problem).\n",
        "- You want the AI to simulate a coach, interviewer, or consultant.\n",
        "\n",
        "### ✅ Benefits\n",
        "\n",
        "- 🎯 **Goal-oriented**: Keeps the conversation focused on achieving a specific outcome.\n",
        "- 🧭 **Guided discovery**: Helps users uncover needs or preferences they hadn’t considered.\n",
        "- 🧠 **Cognitive offloading**: You don’t have to think of the right questions — the AI does that for you.\n",
        "\n",
        "⚠️ Limitations\n",
        "\n",
        "May struggle with complex or ambiguous tasks If the goal isn’t clearly defined, the AI might ask irrelevant or repetitive questions.\n",
        "\n",
        "Performance can vary depending on how well the prompt is written A vague or poorly structured prompt can lead to inefficient or confusing interactions.\n"
      ],
      "metadata": {
        "id": "b7T2fgSPATi5"
      }
    },
    {
      "cell_type": "code",
      "source": [
        "from langchain_core.language_models.chat_models import BaseChatModel\n",
        "from langchain_core.messages import AIMessage, HumanMessage, SystemMessage\n",
        "from langchain_core.outputs import ChatGeneration, ChatResult\n",
        "import google.generativeai as genai\n",
        "from typing import Any, List, Mapping, Optional, Dict, Iterator\n",
        "\n",
        "class GeminiChatModel(BaseChatModel):\n",
        "    model: genai.GenerativeModel # Explicitly declare the model attribute\n",
        "    temperature: float = 0.0\n",
        "\n",
        "    def __init__(self, model_name=\"gemini-1.5-flash-latest\", generation_config=None, **kwargs: Any):\n",
        "        if generation_config is None:\n",
        "            generation_config = genai.types.GenerationConfig(temperature=self.temperature)\n",
        "        # Initialize the model before calling super().__init__\n",
        "        model_instance = genai.GenerativeModel(model_name=model_name,\n",
        "                                           generation_config=generation_config)\n",
        "        super().__init__(model=model_instance, **kwargs) # Pass the model to the base class\n",
        "        self.model = model_instance # Also keep a reference in the instance\n",
        "\n",
        "\n",
        "    @property\n",
        "    def _llm_type(self) -> str:\n",
        "        return \"gemini\"\n",
        "\n",
        "    def _generate(\n",
        "        self,\n",
        "        messages: List[Any],\n",
        "        stop: Optional[List[str]] = None,\n",
        "        run_manager: Any = None,\n",
        "        **kwargs: Any,\n",
        "    ) -> ChatResult:\n",
        "        # Convert LangChain messages to Gemini format\n",
        "        prompt_parts = []\n",
        "        for msg in messages:\n",
        "            if isinstance(msg, HumanMessage):\n",
        "                prompt_parts.append({\"role\": \"user\", \"parts\": [msg.content]})\n",
        "            elif isinstance(msg, AIMessage):\n",
        "                prompt_parts.append({\"role\": \"model\", \"parts\": [msg.content]})\n",
        "            elif isinstance(msg, SystemMessage):\n",
        "                 # Gemini doesn't have a system role, append as user message or handle differently\n",
        "                 # For now, let's append as a user message to keep the conversation flow\n",
        "                 prompt_parts.append({\"role\": \"user\", \"parts\": [f\"System message: {msg.content}\"]})\n",
        "\n",
        "\n",
        "        response = self.model.generate_content(prompt_parts, stream=False)\n",
        "\n",
        "        # Convert Gemini response back to LangChain AIMessage\n",
        "        # Assuming the response structure is a single text response\n",
        "        # May need to adjust based on actual Gemini response format and desired output\n",
        "        generated_text = response.text\n",
        "        # Wrap the AIMessage in a ChatGeneration and then in a ChatResult\n",
        "        chat_generation = ChatGeneration(message=AIMessage(content=generated_text))\n",
        "        return ChatResult(generations=[chat_generation])\n",
        "\n",
        "\n",
        "    def get_num_tokens(self, text: str) -> int:\n",
        "        \"\"\"Get number of tokens for a piece of text.\"\"\"\n",
        "        # This is a placeholder, actual token counting may vary by model\n",
        "        return self.model.count_tokens(text).total_tokens\n",
        "\n",
        "\n",
        "    def _stream(\n",
        "        self,\n",
        "        messages: List[Any],\n",
        "        stop: Optional[List[str]] = None,\n",
        "        run_manager: Any = None,\n",
        "        **kwargs: Any,\n",
        "    ) -> Iterator[ChatGeneration]:\n",
        "        # Convert LangChain messages to Gemini format\n",
        "        prompt_parts = []\n",
        "        for msg in messages:\n",
        "            if isinstance(msg, HumanMessage):\n",
        "                prompt_parts.append({\"role\": \"user\", \"parts\": [msg.content]})\n",
        "            elif isinstance(msg, AIMessage):\n",
        "                prompt_parts.append({\"role\": \"model\", \"parts\": [msg.content]})\n",
        "            elif isinstance(msg, SystemMessage):\n",
        "                 prompt_parts.append({\"role\": \"user\", \"parts\": [f\"System message: {msg.content}\"]})\n",
        "\n",
        "        stream = self.model.generate_content(prompt_parts, stream=True)\n",
        "\n",
        "        for chunk in stream:\n",
        "            yield ChatGeneration(message=AIMessage(content=chunk.text))\n",
        "\n",
        "    @property\n",
        "    def _identifying_params(self) -> Mapping[str, Any]:\n",
        "        \"\"\"Get the identifying parameters.\"\"\"\n",
        "        return {\"model_name\": self.model.model_name, \"temperature\": self.temperature}"
      ],
      "metadata": {
        "id": "dBIWAvE93Pw1"
      },
      "execution_count": null,
      "outputs": []
    },
    {
      "cell_type": "code",
      "metadata": {
        "id": "69a61e4e"
      },
      "source": [
        "from langchain_core.prompts import ChatPromptTemplate\n",
        "from langchain_community.chat_message_histories import ChatMessageHistory\n",
        "from langchain_core.runnables.history import RunnableWithMessageHistory\n",
        "\n",
        "# Prompt template\n",
        "prompt = ChatPromptTemplate.from_messages(\n",
        "    [\n",
        "        (\"placeholder\", \"{chat_history}\"),\n",
        "        (\"human\", \"{input}\"),\n",
        "    ]\n",
        ")\n",
        "\n",
        "# Gemini wrapper\n",
        "generation_config = genai.types.GenerationConfig(temperature=0)\n",
        "gemini_model = GeminiChatModel(generation_config=generation_config)\n",
        "\n",
        "# Chain\n",
        "llm_chain = prompt | gemini_model\n",
        "\n",
        "# History\n",
        "history = ChatMessageHistory()\n",
        "\n",
        "# Runnable with history\n",
        "conv_chain = RunnableWithMessageHistory(\n",
        "    llm_chain,\n",
        "    lambda session_id: history,\n",
        "    input_messages_key=\"input\",\n",
        "    history_messages_key=\"chat_history\",\n",
        ")"
      ],
      "execution_count": null,
      "outputs": []
    },
    {
      "cell_type": "code",
      "metadata": {
        "colab": {
          "base_uri": "https://localhost:8080/",
          "height": 46
        },
        "id": "ab5b2d64",
        "outputId": "e526bf7a-c180-401d-add8-2207757855e5"
      },
      "source": [
        "prompt_input = \"\"\"I would like you to ask me questions to build a detailed project plan\n",
        "            for a data science project.\n",
        "            Ask me questions until you have enough information to build this project plan.\n",
        "            You can ask questions about the problem, resources, data, and any other relevant questions.\n",
        "            Ask me one question at a time. Let’s start with the first question.\n",
        "         \"\"\"\n",
        "response = conv_chain.invoke({\"input\": prompt_input},\n",
        "                             {\"configurable\": {\"session_id\": \"unused\"}})\n",
        "display(Markdown(response.content))"
      ],
      "execution_count": null,
      "outputs": [
        {
          "output_type": "display_data",
          "data": {
            "text/plain": [
              "<IPython.core.display.Markdown object>"
            ],
            "text/markdown": "What is the overall goal of this data science project?  What problem are we trying to solve or what question are we trying to answer?\n"
          },
          "metadata": {}
        }
      ]
    },
    {
      "cell_type": "code",
      "source": [
        "human_answer = \"We want to build a predictive model to detect fraudulent transactions in our bank\"\n",
        "response = conv_chain.invoke({\"input\": human_answer},\n",
        "                             {\"configurable\": {\"session_id\": \"unused\"}})\n",
        "display(Markdown(response.content))"
      ],
      "metadata": {
        "id": "1mq0p_zt0Mmp",
        "colab": {
          "base_uri": "https://localhost:8080/",
          "height": 46
        },
        "outputId": "87a78058-fa0a-43e0-b908-de3630bb90ce"
      },
      "execution_count": null,
      "outputs": [
        {
          "output_type": "display_data",
          "data": {
            "text/plain": [
              "<IPython.core.display.Markdown object>"
            ],
            "text/markdown": "What is the definition of a fraudulent transaction in this context?  What specific characteristics or patterns define a fraudulent transaction versus a legitimate one?\n"
          },
          "metadata": {}
        }
      ]
    },
    {
      "cell_type": "code",
      "source": [
        "human_answer = \"\"\"We are dealing with credit card and online banking transactions both.\n",
        "                  We have labeled data for our historical data flagging transactions as normal or fraudulent\n",
        "               \"\"\"\n",
        "response = conv_chain.invoke({\"input\": human_answer},\n",
        "                             {\"configurable\": {\"session_id\": \"unused\"}})\n",
        "display(Markdown(response.content))"
      ],
      "metadata": {
        "id": "VwWFL6J40V1N",
        "colab": {
          "base_uri": "https://localhost:8080/",
          "height": 64
        },
        "outputId": "1f60fb4f-f72d-4ee0-c6dc-581b5431f015"
      },
      "execution_count": null,
      "outputs": [
        {
          "output_type": "display_data",
          "data": {
            "text/plain": [
              "<IPython.core.display.Markdown object>"
            ],
            "text/markdown": "What data sources are available to us, and what are the key features (variables) within each source that might be relevant to predicting fraudulent transactions? Please describe the data format (e.g., CSV, database, etc.) for each source.\n"
          },
          "metadata": {}
        }
      ]
    },
    {
      "cell_type": "code",
      "source": [
        "human_answer = \"\"\"We have roughly 500000 transactions for the last 3 years of data.\n",
        "                  These are the main features in our dataset:\n",
        "                    transaction amount\n",
        "                    payment method\n",
        "                    payment type\n",
        "                    payment time\n",
        "                    merchant ID\n",
        "                    total transactions in last month\n",
        "                    credit score\n",
        "                    average transaction amount in last year\n",
        "                    transaction status - fraudulent or not fraudulent\n",
        "               \"\"\"\n",
        "response = conv_chain.invoke({\"input\": human_answer},\n",
        "                             {\"configurable\": {\"session_id\": \"unused\"}})\n",
        "display(Markdown(response.content))"
      ],
      "metadata": {
        "id": "92tsGERc0opy",
        "colab": {
          "base_uri": "https://localhost:8080/",
          "height": 46
        },
        "outputId": "78635b55-84fa-4426-d348-aa3c5a17af52"
      },
      "execution_count": null,
      "outputs": [
        {
          "output_type": "display_data",
          "data": {
            "text/plain": [
              "<IPython.core.display.Markdown object>"
            ],
            "text/markdown": "What is the proportion of fraudulent transactions in your dataset (i.e., what is the class imbalance)?\n"
          },
          "metadata": {}
        }
      ]
    },
    {
      "cell_type": "code",
      "source": [
        "human_answer = \"\"\"We want to start with a balance between precision and recall\n",
        "               \"\"\"\n",
        "response = conv_chain.invoke({\"input\": human_answer},\n",
        "                             {\"configurable\": {\"session_id\": \"unused\"}})\n",
        "display(Markdown(response.content))"
      ],
      "metadata": {
        "id": "CqlEF0w31Tyk",
        "colab": {
          "base_uri": "https://localhost:8080/",
          "height": 64
        },
        "outputId": "b0ddb008-e312-4029-f4af-8fcff8619fd7"
      },
      "execution_count": null,
      "outputs": [
        {
          "output_type": "display_data",
          "data": {
            "text/plain": [
              "<IPython.core.display.Markdown object>"
            ],
            "text/markdown": "Okay, that's a good starting point.  However, to understand the feasibility and resource allocation,  what is the approximate size of the dataset in terms of storage (e.g., GB)?  And what is the processing power available (e.g., local machine, cloud computing resources, specifications)?\n"
          },
          "metadata": {}
        }
      ]
    },
    {
      "cell_type": "code",
      "source": [
        "human_answer = \"\"\"Open source is our focus and also the python ecosystem.\n",
        "                  Feel free to suggest relevant libraries and tools in the plan.\n",
        "               \"\"\"\n",
        "response = conv_chain.invoke({\"input\": human_answer},\n",
        "                             {\"configurable\": {\"session_id\": \"unused\"}})\n",
        "display(Markdown(response.content))"
      ],
      "metadata": {
        "id": "ibthhHAv02fw",
        "colab": {
          "base_uri": "https://localhost:8080/",
          "height": 64
        },
        "outputId": "4f7310ba-d26f-4828-bd4c-dab66e8b1466"
      },
      "execution_count": null,
      "outputs": [
        {
          "output_type": "display_data",
          "data": {
            "text/plain": [
              "<IPython.core.display.Markdown object>"
            ],
            "text/markdown": "What is your desired project timeline (e.g., number of weeks or months)?  And what are the key milestones you'd like to achieve along the way (e.g., data exploration complete, model training complete, model deployment)?\n"
          },
          "metadata": {}
        }
      ]
    },
    {
      "cell_type": "code",
      "source": [
        "human_answer = \"\"\"We have one month to build a proof of concept and two data scientists.\n",
        "                  Please suggest relevant milestones and timelines in the plan as needed\n",
        "               \"\"\"\n",
        "response = conv_chain.invoke({\"input\": human_answer},\n",
        "                             {\"configurable\": {\"session_id\": \"unused\"}})\n",
        "display(Markdown(response.content))"
      ],
      "metadata": {
        "id": "Io8bXckv1ABj",
        "colab": {
          "base_uri": "https://localhost:8080/",
          "height": 46
        },
        "outputId": "5f345e91-24a1-41ff-a5e2-33e3013d8180"
      },
      "execution_count": null,
      "outputs": [
        {
          "output_type": "display_data",
          "data": {
            "text/plain": [
              "<IPython.core.display.Markdown object>"
            ],
            "text/markdown": "Given the one-month timeline and two data scientists, what is your budget for this project (including cloud computing costs, if applicable)?\n"
          },
          "metadata": {}
        }
      ]
    },
    {
      "cell_type": "code",
      "source": [
        "human_answer = \"\"\"Database Team Developer: John for database access and help as needed\n",
        "                  Transaction Team Manager: Jim for presentations and approvals after PoC is built\n",
        "                  Analytics Team Manager: Jacob For intermediate progress, technical discussions and demos as PoC is being built\n",
        "               \"\"\"\n",
        "response = conv_chain.invoke({\"input\": human_answer},\n",
        "                             {\"configurable\": {\"session_id\": \"unused\"}})\n",
        "display(Markdown(response.content))"
      ],
      "metadata": {
        "id": "7qBOZLwq1hYq",
        "colab": {
          "base_uri": "https://localhost:8080/",
          "height": 64
        },
        "outputId": "7689ff31-9fea-471c-ae36-9bfe4a9146ec"
      },
      "execution_count": null,
      "outputs": [
        {
          "output_type": "display_data",
          "data": {
            "text/plain": [
              "<IPython.core.display.Markdown object>"
            ],
            "text/markdown": "Excellent.  Considering the team, the data, and the timeline,  what evaluation metrics will be used to assess the performance of the predictive model (beyond just precision and recall)?  And what is the acceptable threshold for these metrics to consider the PoC successful?\n"
          },
          "metadata": {}
        }
      ]
    },
    {
      "cell_type": "code",
      "source": [
        "human_answer = \"\"\"All of the above as you suggested\n",
        "               \"\"\"\n",
        "response = conv_chain.invoke({\"input\": human_answer},\n",
        "                             {\"configurable\": {\"session_id\": \"unused\"}})\n",
        "display(Markdown(response.content))"
      ],
      "metadata": {
        "id": "RpT2WTMg0qHn",
        "colab": {
          "base_uri": "https://localhost:8080/",
          "height": 122
        },
        "outputId": "71e8dab7-b0d5-4fcd-8efa-a52e2768dac8"
      },
      "execution_count": null,
      "outputs": [
        {
          "output_type": "display_data",
          "data": {
            "text/plain": [
              "<IPython.core.display.Markdown object>"
            ],
            "text/markdown": "Okay,  to summarize and create a preliminary project plan, let's assume we'll use Python with libraries like scikit-learn, pandas, and potentially imbalanced-learn for handling class imbalance.  We'll need to define success metrics (precision, recall, F1-score, AUC-ROC) and set thresholds for each.  Given the limited time, we should prioritize a relatively simple model initially (e.g., Logistic Regression, Random Forest) before exploring more complex options.\n\nConsidering this, can you provide a list of the key tasks involved in each phase (data exploration, preprocessing, model building, evaluation, and reporting) and estimate the time each task might take?  We can then refine this into a detailed Gantt chart.\n"
          },
          "metadata": {}
        }
      ]
    },
    {
      "cell_type": "code",
      "source": [
        "human_answer = \"\"\"Cross validation and a holdout dataset, for now we just want to focus\n",
        "                  on our proof of concept\n",
        "               \"\"\"\n",
        "response = conv_chain.invoke({\"input\": human_answer},\n",
        "                             {\"configurable\": {\"session_id\": \"unused\"}})\n",
        "display(Markdown(response.content))"
      ],
      "metadata": {
        "id": "0NnrPSLU0wBu",
        "colab": {
          "base_uri": "https://localhost:8080/",
          "height": 366
        },
        "outputId": "6a57ce7b-48a9-4d56-e8c0-0b337d88150f"
      },
      "execution_count": null,
      "outputs": [
        {
          "output_type": "display_data",
          "data": {
            "text/plain": [
              "<IPython.core.display.Markdown object>"
            ],
            "text/markdown": "Perfect.  Let's break down the project into phases with estimated time allocations (in days) for each task.  Remember, these are estimates and can be adjusted as the project progresses.  Please provide your estimates for the following tasks:\n\n**Phase 1: Data Exploration and Preprocessing (Days)**\n\n* Data loading and initial exploration (including visualization of key features and target variable):\n* Data cleaning (handling missing values, outliers):\n* Feature engineering (creating new features if needed):\n* Feature scaling/transformation:\n* Handling class imbalance (e.g., using techniques from imbalanced-learn):\n* Data splitting into training, validation, and holdout sets:\n\n\n**Phase 2: Model Building and Training (Days)**\n\n* Model selection (initial model: Logistic Regression or Random Forest):\n* Model training and hyperparameter tuning using cross-validation on the training and validation sets:\n\n\n**Phase 3: Model Evaluation and Reporting (Days)**\n\n* Model evaluation on the holdout set using precision, recall, F1-score, and AUC-ROC:\n* Report generation (including visualizations and key findings):\n* Presentation preparation for Jim and Jacob:\n\n\nProvide your estimates for each task, and we can finalize the project plan.\n"
          },
          "metadata": {}
        }
      ]
    },
    {
      "cell_type": "markdown",
      "source": [
        "## N-shot Prompting Pattern"
      ],
      "metadata": {
        "id": "F6VrYagy3lqL"
      }
    },
    {
      "cell_type": "markdown",
      "source": [
        "### Zero-Shot Prompting"
      ],
      "metadata": {
        "id": "TkowC_IY3o0e"
      }
    },
    {
      "cell_type": "markdown",
      "source": [
        "Zero-shot prompting is a technique where a language model is asked to perform a task without being given any examples of how to do it. Instead, the model relies entirely on its pre-trained knowledge and the clarity of the instructions in the prompt.\n",
        "\n",
        "🧠 How It Works\n",
        "\n",
        "You give the model a direct instruction.\n",
        "\n",
        "No demonstrations or examples are included.\n",
        "\n",
        "The model uses its general understanding from training to respond.\n",
        "\n",
        "✅ Advantages\n",
        "\n",
        "Fast and efficient for simple tasks.\n",
        "\n",
        "No need to craft examples.\n",
        "\n",
        "Useful when examples are unavailable or impractical.\n",
        "\n",
        "⚠️ Limitations\n",
        "\n",
        "May struggle with complex or ambiguous tasks.\n",
        "\n",
        "Performance can vary depending on how well the prompt is written."
      ],
      "metadata": {
        "id": "V3RYloFYCgtn"
      }
    },
    {
      "cell_type": "code",
      "source": [
        "from IPython.display import display, Markdown\n",
        "\n",
        "prompt = \"\"\"Q: What is the capital of France?\n",
        "            A:\n",
        "         \"\"\"\n",
        "\n",
        "response = gemini.generate_content(contents=prompt)\n",
        "display(Markdown(response.text))"
      ],
      "metadata": {
        "id": "g7dpdaEA3lqL",
        "colab": {
          "base_uri": "https://localhost:8080/",
          "height": 46
        },
        "outputId": "1de654d5-e282-4ca4-9f49-ff198fb5b754"
      },
      "execution_count": null,
      "outputs": [
        {
          "output_type": "display_data",
          "data": {
            "text/plain": [
              "<IPython.core.display.Markdown object>"
            ],
            "text/markdown": "A: Paris\n"
          },
          "metadata": {}
        }
      ]
    },
    {
      "cell_type": "code",
      "source": [
        "prompt = \"\"\"News Categories : sports, business, entertainment, technology\n",
        "            Article:  Olympics postponed due to unforeseen circumstances, world athletes in shock\n",
        "            Category:\n",
        "         \"\"\"\n",
        "\n",
        "response = gemini.generate_content(contents=prompt)\n",
        "display(Markdown(response.text))"
      ],
      "metadata": {
        "id": "pH9qWtfk3zwL",
        "colab": {
          "base_uri": "https://localhost:8080/",
          "height": 46
        },
        "outputId": "9bed6b1a-debd-44bd-ea33-a71f952c26a4"
      },
      "execution_count": null,
      "outputs": [
        {
          "output_type": "display_data",
          "data": {
            "text/plain": [
              "<IPython.core.display.Markdown object>"
            ],
            "text/markdown": "Sports\n"
          },
          "metadata": {}
        }
      ]
    },
    {
      "cell_type": "markdown",
      "source": [
        "### 1-Shot Prompting"
      ],
      "metadata": {
        "id": "JPTuvCoy37hE"
      }
    },
    {
      "cell_type": "markdown",
      "source": [
        "**One-shot prompting** is a technique in prompt engineering where a language model is given **just one example** of a task before being asked to perform similar tasks. It sits between zero-shot (no examples) and few-shot (multiple examples) prompting.\n",
        "\n",
        "### 🧠 How It Works\n",
        "\n",
        "- You provide a **single input-output pair** to demonstrate the desired behavior.\n",
        "- The model uses this example as a **template** to generalize and respond to new inputs.\n",
        "\n",
        "\n",
        "### ✅ Benefits\n",
        "\n",
        "- Helps the model understand **task structure** with minimal data.\n",
        "- Useful when **training data is scarce**.\n",
        "- Often more accurate than zero-shot for **complex tasks**.\n",
        "\n",
        "### ⚠️ Challenges\n",
        "\n",
        "- The **quality of the single example** is crucial.\n",
        "- May not generalize well if the task is highly variable."
      ],
      "metadata": {
        "id": "PsGnPUlNFGJ_"
      }
    },
    {
      "cell_type": "code",
      "source": [
        "from IPython.display import display, Markdown\n",
        "\n",
        "prompt = \"\"\"Q: What is the capital of France?\n",
        "            A: Paris.\n",
        "\n",
        "            Q: What is the capital of Switzerland?\n",
        "            A:\n",
        "         \"\"\"\n",
        "\n",
        "response = gemini.generate_content(contents=prompt)\n",
        "display(Markdown(response.text))"
      ],
      "metadata": {
        "id": "1ex5fjMO37hE",
        "colab": {
          "base_uri": "https://localhost:8080/",
          "height": 46
        },
        "outputId": "8ddeae6b-88cf-4f07-ea59-e72672a2aece"
      },
      "execution_count": null,
      "outputs": [
        {
          "output_type": "display_data",
          "data": {
            "text/plain": [
              "<IPython.core.display.Markdown object>"
            ],
            "text/markdown": "A: Bern\n"
          },
          "metadata": {}
        }
      ]
    },
    {
      "cell_type": "code",
      "source": [
        "from IPython.display import display, Markdown\n",
        "\n",
        "prompt = \"\"\"Possible News Categories : Sports, Business, Entertainment, Technology\n",
        "\n",
        "            Article:  Olympics postponed due to unforeseen circumstances, world athletes in shock\n",
        "            Category: Sports\n",
        "\n",
        "            Article:  Tech giant NeoTech announces its latest smartphone, the NeoTech Ultra\n",
        "            Category:\n",
        "         \"\"\"\n",
        "\n",
        "response = gemini.generate_content(contents=prompt)\n",
        "display(Markdown(response.text))"
      ],
      "metadata": {
        "id": "8TiWrwsr4Db_",
        "colab": {
          "base_uri": "https://localhost:8080/",
          "height": 46
        },
        "outputId": "ef5da1f8-7c13-4b3a-edde-8506a74ce39d"
      },
      "execution_count": null,
      "outputs": [
        {
          "output_type": "display_data",
          "data": {
            "text/plain": [
              "<IPython.core.display.Markdown object>"
            ],
            "text/markdown": "Technology\n"
          },
          "metadata": {}
        }
      ]
    },
    {
      "cell_type": "markdown",
      "source": [
        "### Few-Shot Prompting"
      ],
      "metadata": {
        "id": "zRHJAKRt4Kks"
      }
    },
    {
      "cell_type": "markdown",
      "source": [
        "**Few-shot prompting** is a technique in prompt engineering where a language model is given a **small number of examples**—typically 2 to 5—to guide its response to a new task. These examples help the model understand the desired format, tone, or logic, enabling it to generalize and perform better than with zero-shot or one-shot prompting.\n",
        "\n",
        "### 🧠 How It Works\n",
        "\n",
        "- Include several **input-output pairs** in the prompt.\n",
        "- The model uses these examples to **learn in context** and apply the pattern to a new input.\n",
        "- It’s especially useful for **complex tasks** or when precision matters.\n",
        "\n",
        "### ✅ Benefits\n",
        "\n",
        "- Improves accuracy on nuanced tasks.\n",
        "- Reduces need for large labeled datasets.\n",
        "- Enables **in-context learning** without retraining the model.\n",
        "\n",
        "### ⚠️ Limitations\n",
        "\n",
        "- Requires careful selection of examples.\n",
        "- Prompt length is limited by token constraints.\n",
        "- Performance depends on **example quality and relevance**."
      ],
      "metadata": {
        "id": "m_J9OmSqGeeX"
      }
    },
    {
      "cell_type": "code",
      "source": [
        "from IPython.display import display, Markdown\n",
        "\n",
        "prompt = \"\"\"Possible News Categories : Sports, Business, Entertainment, Technology\n",
        "\n",
        "            INPUT: Wimbledon 2023 Women’s Final. Marketa Vondrousova beats Ons Jabeur to win her maiden Grand Slam title\n",
        "            OUTPUT: Sports\n",
        "\n",
        "            INPUT: Kicking things off with the Galaxy Tab S9 FE Plus. It's going to be powered by the Exynos 1380 with 8GB of RAM, and pack a 12.4-inch display. The slate will measure 285.4 x 185.4 x 6.54 mm and feature dual speakers, a side-mounted fingerprint sensor. It will come in Grey, Light Green, Light Pink, and Silver color options.\n",
        "            OUTPUT: Technology\n",
        "\n",
        "            INPUT: The share of the cigarette business to ITC’s business in revenue terms has dropped from 47 per cent in FY13 to 37 per cent in FY23 on a larger revenue base. According to the company’s most recent annual report, the leadership position has been sustained “through its unwavering focus on nurturing a future-ready portfolio of world-class products anchored on its integrated seed to smoke value chain, superior consumer insights, robust innovation pipeline and world-class product development capabilities.”\n",
        "            OUTPUT: Business\n",
        "\n",
        "            INPUT: Arsenal finally completed the signing of Rice as they announced the player's arrival on Saturday. Right after completing his move, Rice revealed that he is a great admirer of Arteta and that the Spaniard's presence in the Arsenal dressing room is one of the main reasons why he decided to join the North London club.\n",
        "            OUTPUT:\n",
        "         \"\"\"\n",
        "\n",
        "response = gemini.generate_content(contents=prompt)\n",
        "display(Markdown(response.text))"
      ],
      "metadata": {
        "id": "62hsCaJe4Kkt",
        "colab": {
          "base_uri": "https://localhost:8080/",
          "height": 46
        },
        "outputId": "9b4eb897-e519-4f93-a9f9-545661081a77"
      },
      "execution_count": null,
      "outputs": [
        {
          "output_type": "display_data",
          "data": {
            "text/plain": [
              "<IPython.core.display.Markdown object>"
            ],
            "text/markdown": "Sports\n"
          },
          "metadata": {}
        }
      ]
    },
    {
      "cell_type": "markdown",
      "source": [
        "## Directional Stimulus Pattern"
      ],
      "metadata": {
        "id": "uk0PjKKk3lqN"
      }
    },
    {
      "cell_type": "markdown",
      "source": [
        "**Directional Stimulus Prompting (DSP)** is an advanced prompt engineering technique designed to guide large language models (LLMs) toward producing more accurate, context-sensitive, and task-specific outputs. Unlike traditional prompting methods (like zero-shot or few-shot), DSP introduces a **structured stimulus**—essentially a hint or directive—within the prompt to steer the model’s behavior more precisely.\n",
        "\n",
        "### 🎯 Key Concepts\n",
        "\n",
        "- **Directional Stimulus**: A targeted cue embedded in the prompt that nudges the model toward a desired output style or focus.\n",
        "- **Policy Model**: A smaller model may be used to generate these stimuli dynamically based on the task or input.\n",
        "- **Control Mechanism**: DSP acts like a GPS for the model’s generative process, helping it stay aligned with specific goals.\n",
        "\n",
        "\n",
        "### ✅ Benefits\n",
        "\n",
        "- Greater **control over output quality**\n",
        "- More **contextually relevant** responses\n",
        "- Useful for tasks like summarization, dialogue generation, and structured reasoning\n",
        "\n",
        "### ⚠️ Considerations\n",
        "\n",
        "- Requires thoughtful design of stimuli\n",
        "- May involve additional modeling (e.g., a policy model)\n",
        "- Best suited for **complex or high-stakes tasks**"
      ],
      "metadata": {
        "id": "3od1DhdcIdDB"
      }
    },
    {
      "cell_type": "code",
      "source": [
        "ARTICLE = \"\"\"Generative artificial intelligence (also generative AI or GenAI[1]) is artificial intelligence capable of generating text, images, or other media, using generative models.[2][3][4] Generative AI models learn the patterns and structure of their input training data and then generate new data that has similar characteristics.[5][6]\n",
        "\n",
        "In the early 2020s, advances in transformer-based deep neural networks enabled a number of generative AI systems notable for accepting natural language prompts as input. These include large language model chatbots such as ChatGPT, Bing Chat, Bard, and LLaMA, and text-to-image artificial intelligence art systems such as Stable Diffusion, Midjourney, and DALL-E.[7][8][9]\n",
        "\n",
        "Generative AI has uses across a wide range of industries, including art, writing, script writing, software development, product design, healthcare, finance, gaming, marketing, and fashion.[10][11][12] Investment in generative AI surged during the early 2020s, with large companies such as Microsoft, Google, and Baidu as well as numerous smaller firms developing generative AI models.[2][13][14] However, there are also concerns about the potential misuse of generative AI, including cybercrime or creating fake news or deepfakes which can be used to deceive or manipulate people.[15]\n",
        "\n",
        "History\n",
        "Main article: History of artificial intelligence\n",
        "The academic discipline of artificial intelligence was founded at a research workshop at Dartmouth College in 1956, and has experienced several waves of advancement and optimism in the decades since.[16] Since its founding, researchers in the field have raised philosophical and ethical arguments about the nature of the human mind and the consequences of creating artificial beings with human-like intelligence; these issues have previously been explored by myth, fiction and philosophy since antiquity.[17] These concepts of automated art date back at least to the automata of ancient Greek civilization, where inventors such as Daedalus and Hero of Alexandria were described as having designed machines capable of writing text, generating sounds, and playing music.[18][19] The tradition of creative automatons has flourished throughout history, such as Maillardet's automaton, created in the early 1800s.[20]\n",
        "\n",
        "Since the founding of AI in the 1950s, artists and researchers have used artificial intelligence to create artistic works. By the early 1970s, Harold Cohen was creating and exhibiting generative AI works created by AARON, the computer program Cohen created to generate paintings.[21]\n",
        "\n",
        "Markov chains have long been used to model natural languages since their development by Russian mathematician Andrey Markov in the early 20th century. Markov published his first paper on the topic in 1906,[22][23][24] and analyzed the pattern of vowels and consonants in the novel Eugeny Onegin using Markov chains. Once a Markov chain is learned on a text corpus, it can then be used as a probabilistic text generator.[25][26]\n",
        "\n",
        "The field of machine learning often uses statistical models, including generative models, to model and predict data. Beginning in the late 2000s, the emergence of deep learning drove progress and research in image classification, speech recognition, natural language processing and other tasks. Neural networks in this era were typically trained as discriminative models, due to the difficulty of generative modeling.[27]\n",
        "\n",
        "In 2014, advancements such as the variational autoencoder and generative adversarial network produced the first practical deep neural networks capable of learning generative, rather than discriminative, models of complex data such as images. These deep generative models were the first able to output not only class labels for images, but to output entire images.\n",
        "\n",
        "In 2017, the Transformer network enabled advancements in generative models, leading to the first generative pre-trained transformer (GPT), known as GPT-1, in 2018.[28] This was followed in 2019 by GPT-2 which demonstrated the ability to generalize unsupervised to many different tasks as a Foundation model.[29]\n",
        "\n",
        "In 2021, the release of DALL-E, a transformer-based pixel generative model, followed by Midjourney and Stable Diffusion marked the emergence of practical high-quality artificial intelligence art from natural language prompts.\n",
        "\n",
        "In March 2023, GPT-4 was released. A team from Microsoft Research argued that \"it could reasonably be viewed as an early (yet still incomplete) version of an artificial general intelligence (AGI) system\".[30]. Other scholars have disputed that GPT-4 reaches this threshold, calling generative AI \"still far from reaching the benchmark of ‘general human intelligence’\" as of 2023.[31]\n",
        "\n",
        "Modalities\n",
        "A generative AI system is constructed by applying unsupervised or self-supervised machine learning to a data set. The capabilities of a generative AI system depend on the modality or type of the data set used.\n",
        "\n",
        "Generative AI can be either unimodal or multimodal; unimodal systems take only one type of input, whereas multimodal systems can take more than one type of input.[32] For example, one version of OpenAI's GPT-4 accepts both text and image inputs.[33]\n",
        "\n",
        "Text\n",
        "\n",
        "A user conversing with a Character.ai simulation of Ludwig Wittgenstein\n",
        "Generative AI systems trained on words or word tokens include GPT-3, LaMDA, LLaMA, BLOOM, GPT-4, and others (see List of large language models). They are capable of natural language processing, machine translation, and natural language generation and can be used as foundation models for other tasks.[34] Data sets include BookCorpus, Wikipedia, and others (see List of text corpora).\n",
        "\n",
        "Code\n",
        "In addition to natural language text, large language models can be trained on programming language text, allowing them to generate source code for new computer programs.[35] Examples include OpenAI Codex.\n",
        "\n",
        "Images\n",
        "See also: Artificial intelligence art\n",
        "\n",
        "Stable Diffusion, prompt a photograph of an astronaut riding a horse\n",
        "Producing high-quality visual art is a prominent application of generative AI.[36] Many such artistic works have received public awards and recognition.\n",
        "\n",
        "Generative AI systems trained on sets of images with text captions include Imagen, DALL-E, Midjourney, Adobe Firefly, Stable Diffusion and others (see Artificial intelligence art, Generative art, and Synthetic media). They are commonly used for text-to-image generation and neural style transfer.[37] Datasets include LAION-5B and others (See Datasets in computer vision).\n",
        "\n",
        "Music\n",
        "Duration: 16 seconds.0:16\n",
        "AI-generated music from the Riffusion Inference Server, prompted with bossa nova with electric guitar\n",
        "Generative AI systems such as MusicLM[38] and MusicGen[39] can be trained on the audio waveforms of recorded music along with text annotations, in order to generate new musical samples based on text descriptions such as a calming violin melody backed by a distorted guitar riff.\n",
        "\n",
        "Video\n",
        "Runway Gen2, prompt A golden retriever in a suit sitting at a podium giving a speech to the white house press corps\n",
        "Generative AI trained on annotated video can generate temporally-coherent video clips. Examples include Gen1 and Gen2 by RunwayML[40] and Make-A-Video by Meta Platforms.[41]\n",
        "\n",
        "Molecules\n",
        "Generative AI systems can be trained on sequences of amino acids or molecular representations such as SMILES representing DNA or proteins. These systems, such as AlphaFold, are used for protein structure prediction and drug discovery.[42] Datasets include various biological datasets.\n",
        "\n",
        "Robotics\n",
        "Generative AI can also be trained on the motions of a robotic system to generate new trajectories for motion planning or navigation. For example, UniPi from Google Research uses prompts like \"pick up blue bowl\" or \"wipe plate with yellow sponge\" to control movements of a robot arm.[43] Multimodal \"vision-language-action\" models such as Google's RT-2 can perform rudimentary reasoning in response to user prompts and visual input, such as picking up a toy dinosaur when given the prompt pick up the extinct animal at a table filled with toy animals and other objects.[44]\n",
        "\n",
        "Planning\n",
        "The terms generative AI planning or generative planning were used in the 1980s and 1990s to refer to AI planning systems, especially computer-aided process planning, used to generate sequences of actions to reach a specified goal.[45][46]\n",
        "\n",
        "Generative AI planning systems used symbolic AI methods such as state space search and constraint satisfaction and were a \"relatively mature\" technology by the early 1990s. They were used to generate crisis action plans for military use,[47] process plans for manufacturing[45] and decision plans such as in prototype autonomous spacecraft.[48]\n",
        "\n",
        "Software and hardware\n",
        "Generative AI models are used to power chatbot products such as ChatGPT, programming tools such as GitHub Copilot,[49] text-to-image products such as Midjourney, and text-to-video products such as Runway Gen-2.[50] Generative AI features have been integrated into a variety of existing commercially-available products such as Microsoft Office,[51] Google Photos,[52] and Adobe Photoshop.[53] Many generative AI models are also available as open-source software, including Stable Diffusion and the LLaMA[54] language model.\n",
        "\n",
        "Smaller generative AI models with up to a few billion parameters can run on smartphones, embedded devices, and personal computers. For example, LLaMA-7B (a version with 7 billion parameters) can run on a Raspberry Pi 4[55] and one version of Stable Diffusion can run on an iPhone 11.[56]\n",
        "\n",
        "Larger models with tens of billions of parameters can run on laptop or desktop computers. To achieve an acceptable speed, models of this size may require accelerators such as the GPU chips produced by Nvidia and AMD or the Neural Engine included in Apple silicon products. For example, the 65 billion parameter version of LLaMA can be configured to run on a desktop PC.[57]\n",
        "\n",
        "Language models with hundreds of billions of parameters, such as GPT-4 or PaLM, typically run on datacenter computers equipped with arrays of GPUs (such as Nvidia's H100) or AI accelerator chips (such as Google's TPU). These very large models are typically accessed as cloud services over the Internet.\n",
        "\n",
        "In 2022, the United States New Export Controls on Advanced Computing and Semiconductors to China imposed restrictions on exports to China of GPU and AI accelerator chips used for generative AI.[58] Chips such as the Nvidia A800[59] and the Biren Technology BR104[60] were developed to meet the requirements of the sanctions.\n",
        "\n",
        "There are free softwares on the market capable of recognising text generated by generative artificial intelligence (such as GPTZero), as well as images, audio or video coming from it.[61]\n",
        "\n",
        "Concerns\n",
        "See also: Ethics of artificial intelligence and Existential risk from artificial general intelligence\n",
        "The development of generative AI has raised concerns from governments, businesses, and individuals, resulting in protests, legal actions, calls to pause AI experiments, and actions by multiple governments. In a July 2023 briefing of the United Nations Security Council, Secretary-General António Guterres stated \"Generative AI has enormous potential for good and evil at scale\", that AI may \"turbocharge global development\" and contribute between $10 and $15 trillion to the global economy by 2030, but that its malicious use \"could cause horrific levels of death and destruction, widespread trauma, and deep psychological damage on an unimaginable scale\".[62]\n",
        "\n",
        "Job losses\n",
        "\n",
        "A picketer at the 2023 Writers Guild of America strike. While not a top priority, one of the WGA's 2023 requests was \"regulations around the use of (generative) AI\".[63]\n",
        "Main articles: Workplace impact of artificial intelligence and Technological unemployment\n",
        "From the early days of the development of AI, there have been arguments put forward by ELIZA creator Joseph Weizenbaum and others about whether tasks that can be done by computers actually should be done by them, given the difference between computers and humans, and between quantitative calculations and qualitative, value-based judgements.[64] In April 2023, it was reported that image generation AI has resulted in 70% of the jobs for video game illustrators in China being lost.[65][66] In July 2023, developments in generative AI contributed to the 2023 Hollywood labor disputes. Fran Drescher, president of the Screen Actors Guild, declared that \"artificial intelligence poses an existential threat to creative professions\" during the 2023 SAG-AFTRA strike.[67]\n",
        "\n",
        "Deepfakes\n",
        "Main article: Deepfake\n",
        "Deepfakes (a portmanteau of \"deep learning\" and \"fake\"[68]) are AI-generated media that take a person in an existing image or video and replace them with someone else's likeness using artificial neural networks.[69] Deepfakes have garnered widespread attention and concerns for their uses in deepfake celebrity pornographic videos, revenge porn, fake news, hoaxes, and financial fraud.[70][71][72][73] This has elicited responses from both industry and government to detect and limit their use.[74][75]\n",
        "\n",
        "Cybercrime\n",
        "Generative AI's ability to create realistic fake content has been exploited in numerous types of cybercrime, including phishing scams.[76] Deepfake video and audio have been used to create disinformation and fraud. Former Google fraud czar Shuman Ghosemajumder has predicted that while deepfake videos initially created a stir in the media, they would soon become commonplace, and as a result, more dangerous.[77] Cybercriminals have created large language models focused on fraud, including WormGPT and FraudGPT.[78]\n",
        "\n",
        "Misuse in journalism\n",
        "In January 2023, Futurism.com broke the story that CNET had been using an undisclosed internal AI tool to write at least 77 of its stories; after the news broke, CNET posted corrections to 41 of the stories.[79]\n",
        "\n",
        "In April 2023, German tabloid Die Aktuelle published a fake AI-generated interview with former racing driver Michael Schumacher, who had not made any public appearances since 2013 after sustaining a brain injury in a skiing accident. The story included two possible disclosures: the cover included the line \"deceptively real\", and the interview included an acknowledgement at the end that it was AI-generated. The editor-in-chief was fired shortly thereafter amid the controversy.[80]\n",
        "\n",
        "Regulation\n",
        "Main article: Regulation of artificial intelligence\n",
        "In the European Union, the proposed Artificial Intelligence Act includes requirements to disclose copyrighted material used to train generative AI systems, and to label any AI-generated output as such.[81]\n",
        "\n",
        "In the United States, a group of companies including OpenAI, Alphabet, and Meta signed a voluntary agreement with the White House in July 2023 to watermark AI-generated content.[82]\n",
        "\n",
        "In China, the Interim Measures for the Management of Generative AI Services introduced by the Cyberspace Administration of China regulates any public-facing generative AI. It includes requirements to watermark generated images or videos, regulations on training data and label quality, restrictions on personal data collection, and a guideline that generative AI must \"adhere to socialist core values\".[83][84]\n",
        "\"\"\""
      ],
      "metadata": {
        "id": "DyTXxXVV5mzE"
      },
      "execution_count": null,
      "outputs": []
    },
    {
      "cell_type": "code",
      "metadata": {
        "id": "238a68e3",
        "colab": {
          "base_uri": "https://localhost:8080/",
          "height": 116
        },
        "outputId": "0f4159d7-2973-421a-fb4d-a3fd0e958817"
      },
      "source": [
        "from IPython.display import display, Markdown\n",
        "\n",
        "prompt_inp = \"\"\"Summarize the following article in 5 lines based on the following hints.\n",
        "                Hint: Generative AI history, data modalities, tools, applications, concerns\n",
        "\n",
        "                Article:\n",
        "                {article}\n",
        "             \"\"\"\n",
        "\n",
        "prompt = ChatPromptTemplate.from_template(prompt_inp)\n",
        "\n",
        "llm_chain = (prompt\n",
        "                |\n",
        "             gemini_model)\n",
        "#llm_chain = prompt | gemini_model\n",
        "\n",
        "response = gemini.generate_content(contents=prompt.format(article=ARTICLE))\n",
        "display(Markdown(response.text))\n",
        "#response = llm_chain.invoke({'article': ARTICLE})\n",
        "#display(Markdown(response.content))"
      ],
      "execution_count": null,
      "outputs": [
        {
          "output_type": "display_data",
          "data": {
            "text/plain": [
              "<IPython.core.display.Markdown object>"
            ],
            "text/markdown": "Generative AI's history spans decades, from early conceptualizations to recent breakthroughs in transformer-based models like GPT and Stable Diffusion.  These models utilize various data modalities including text, images, audio, and video to generate new content.  Tools range from large language models (LLMs) to image generators, powering applications across numerous industries.  However, concerns exist regarding misuse for deepfakes, cybercrime, and job displacement, prompting regulatory efforts for transparency and ethical development.  The potential for both immense benefit and catastrophic harm necessitates careful management.\n"
          },
          "metadata": {}
        }
      ]
    },
    {
      "cell_type": "markdown",
      "source": [
        "## Template Pattern"
      ],
      "metadata": {
        "id": "GaNQC4Xz7mPk"
      }
    },
    {
      "cell_type": "markdown",
      "source": [
        "The **Template Pattern** in prompt engineering refers to using a **structured, reusable format** for prompts that can be easily adapted across different tasks or domains. It’s like having a fill-in-the-blank framework that ensures consistency, clarity, and effectiveness when interacting with AI models.\n",
        "\n",
        "### 🧱 What Is a Prompt Template?\n",
        "\n",
        "A prompt template is a **predefined scaffold** that includes:\n",
        "- **Task definition**: What you want the model to do\n",
        "- **Input placeholder**: Where you insert your specific data\n",
        "- **Constraints or style cues**: Tone, format, length, etc.\n",
        "\n",
        "This pattern helps streamline prompt creation and improves the reliability of outputs.\n",
        "\n",
        "### ✅ Benefits\n",
        "\n",
        "- Promotes **clarity and consistency**\n",
        "- Saves time when prompting repeatedly\n",
        "- Makes it easier to **scale** across multiple use cases\n",
        "Absolutely! While the **Template Pattern** is powerful, it’s not without its limitations. Here’s a breakdown to help you use it wisely:\n",
        "\n",
        "---\n",
        "\n",
        "### ⚠️ Limitations of the Template Pattern\n",
        "\n",
        "- Templates can become **too rigid**, limiting creativity or nuanced responses.\n",
        "\n",
        "- Users might miss out on the model’s ability to **respond dynamically** to unique inputs.\n",
        "\n",
        "- Reusing the same format repeatedly can lead to **predictable and stale results**.\n",
        "\n",
        "- A template designed for one domain (e.g., legal writing) may not work well in another (e.g., creative storytelling)."
      ],
      "metadata": {
        "id": "zIQasry_J2Bc"
      }
    },
    {
      "cell_type": "code",
      "source": [
        "from IPython.display import display, Markdown\n",
        "\n",
        "prompt = \"\"\"Create a random list of learning activities I can do today for learning Generative AI.\n",
        "            I am going to provide a template for your output .\n",
        "            Try to fit the output into the templates that I list.\n",
        "            Please preserve the formatting and overall template that I provide.\n",
        "\n",
        "            This is the template: ACTIVITY, TOPIC, RESOURCE, DIFFICULTY SCALE 1-5, NOTES\n",
        "            Return the response as JSON\n",
        "         \"\"\"\n",
        "\n",
        "response = gemini.generate_content(contents=prompt)\n",
        "display(Markdown(response.text))"
      ],
      "metadata": {
        "id": "PxXiKNnZ7ori",
        "colab": {
          "base_uri": "https://localhost:8080/",
          "height": 659
        },
        "outputId": "c3722cf1-df99-4d12-c6dd-2f643a58f5dd"
      },
      "execution_count": null,
      "outputs": [
        {
          "output_type": "display_data",
          "data": {
            "text/plain": [
              "<IPython.core.display.Markdown object>"
            ],
            "text/markdown": "```json\n[\n  {\n    \"ACTIVITY\": \"Watch a YouTube tutorial\",\n    \"TOPIC\": \"Introduction to Diffusion Models\",\n    \"RESOURCE\": \"Two Minute Papers (search for 'diffusion models')\",\n    \"DIFFICULTY_SCALE_1-5\": 3,\n    \"NOTES\": \"Focus on understanding the core concepts, not the intricate mathematical details.\"\n  },\n  {\n    \"ACTIVITY\": \"Read a blog post\",\n    \"TOPIC\": \"Generative Adversarial Networks (GANs)\",\n    \"RESOURCE\": \"Towards Data Science (search for 'GANs explained')\",\n    \"DIFFICULTY_SCALE_1-5\": 4,\n    \"NOTES\": \"Pay attention to the generator and discriminator interaction.\"\n  },\n  {\n    \"ACTIVITY\": \"Experiment with a pre-trained model\",\n    \"TOPIC\": \"Image generation with Stable Diffusion\",\n    \"RESOURCE\": \"Hugging Face Spaces (search for 'Stable Diffusion')\",\n    \"DIFFICULTY_SCALE_1-5\": 2,\n    \"NOTES\": \"Try different prompts and parameters to see how the output changes.\"\n  },\n  {\n    \"ACTIVITY\": \"Complete a coding tutorial\",\n    \"TOPIC\": \"Text generation with GPT-2\",\n    \"RESOURCE\": \"Google Colab (search for 'GPT-2 tutorial')\",\n    \"DIFFICULTY_SCALE_1-5\": 5,\n    \"NOTES\": \"Requires basic Python knowledge. Focus on understanding the code structure and parameters.\"\n  },\n  {\n    \"ACTIVITY\": \"Listen to a podcast\",\n    \"TOPIC\": \"Ethical considerations of Generative AI\",\n    \"RESOURCE\": \"Lex Fridman Podcast (search for 'AI ethics')\",\n    \"DIFFICULTY_SCALE_1-5\": 2,\n    \"NOTES\": \"Gain a broader perspective on the societal impact of Generative AI.\"\n  }\n]\n```\n"
          },
          "metadata": {}
        }
      ]
    },
    {
      "cell_type": "markdown",
      "source": [
        "## Meta Language Pattern"
      ],
      "metadata": {
        "id": "L6HcSml18lAt"
      }
    },
    {
      "cell_type": "markdown",
      "source": [
        "The **Meta Language Pattern** in prompt engineering is a technique where you create a **custom symbolic or shorthand language** within your prompt to communicate more efficiently and precisely with a language model. It’s like inventing your own mini-language or notation system that the model learns to interpret based on context you define.\n",
        "\n",
        "---\n",
        "\n",
        "### 🧠 What Is It?\n",
        "\n",
        "- You define **custom terms, symbols, or structures** that represent complex ideas or instructions.\n",
        "- These terms are explained once, then reused throughout the prompt or conversation.\n",
        "- It helps reduce repetition and ambiguity, especially in **multi-step tasks** or **creative workflows**.\n",
        "\n",
        "\n",
        "### ✅ Benefits\n",
        "\n",
        "- 🧩 **Clarity**: Reduces ambiguity by defining terms explicitly.\n",
        "- 🧠 **Efficiency**: Saves space and avoids repeating long instructions.\n",
        "- 🛠️ **Control**: Helps guide the model’s behavior in structured tasks.\n",
        "\n",
        "---\n",
        "\n",
        "### ⚠️ Limitations\n",
        "\n",
        "- 🚧 **Setup Overhead**: Requires careful definition upfront.\n",
        "- ❓ **Misinterpretation Risk**: If the shorthand isn’t clear, the model may misapply it.\n",
        "- 📏 **Scalability**: Complex meta languages can become hard to manage or debug.\n"
      ],
      "metadata": {
        "id": "1mimKtDdPHuZ"
      }
    },
    {
      "cell_type": "code",
      "source": [
        "from IPython.display import display, Markdown\n",
        "\n",
        "prompt = \"\"\"Act as a project manager for a data science team in a tech company.\n",
        "            We will be using a special notation now to indicate the flow of a data science project.\n",
        "            I will provide you that notation.\n",
        "            Your task is to give a detailed plan for each step in the project as identified by the notation.\n",
        "\n",
        "            Let's take an example:\n",
        "\n",
        "            Project Name: Churn Analytics for a Telecom Company\n",
        "    \t    Dataset: Database with over 20000 customers data, has features including contract, payment method,\n",
        "                     paperless billing, monthly charges, total charges, gender, age range\n",
        "                     and of course churn (yes \\ no)\n",
        "            Project Flow: Business_Understanding,3 -> Data_Understanding,5 -> Data_Cleaning,7\n",
        "                          -> Data_Exploration,5 -> Data_Visualization,5 -> Machine_Learning,7\n",
        "                          -> Results_Evaluation,2 -> Business_Presentation,2\n",
        "\n",
        "            This indicates the project name, details about the dataset\n",
        "            and the project flow is in the form Step1,Days1 -> Step2,Days2\n",
        "            and so on where Step1 indicates what step in the data science project is going to be performed\n",
        "            and Days1 indicates the days allocated for that step.\n",
        "\n",
        "            You should list down a detailed set of tasks which can be done in each of these steps\n",
        "            based on the number of days provided. Like\n",
        "\n",
        "            Step 1: Business Understanding (3 days)\n",
        "                Day 1: <list of activities to do>\n",
        "                Day 2: <list of activities to do>\n",
        "                Day 3: <list of activities to do>\n",
        "\n",
        "            Step 2: Data Understanding (5 days)\n",
        "                Day 1: <list of activities to do>\n",
        "                Day 2: <list of activities to do>\n",
        "                Day 3: <list of activities to do>\n",
        "                Day 4: <list of activities to do>\n",
        "                Day 5: <list of activities to do>\n",
        "\n",
        "            and so on...\n",
        "         \"\"\"\n",
        "\n",
        "response = gemini.generate_content(contents=prompt)\n",
        "display(Markdown(response.text))"
      ],
      "metadata": {
        "id": "KROqVz8M8lAt",
        "colab": {
          "base_uri": "https://localhost:8080/",
          "height": 1000
        },
        "outputId": "18e254d3-acf7-4191-d07f-f5f52e5b5601"
      },
      "execution_count": null,
      "outputs": [
        {
          "output_type": "stream",
          "name": "stderr",
          "text": [
            "<>:13: SyntaxWarning: invalid escape sequence '\\ '\n",
            "<>:13: SyntaxWarning: invalid escape sequence '\\ '\n",
            "/tmp/ipython-input-1478622093.py:13: SyntaxWarning: invalid escape sequence '\\ '\n",
            "  and of course churn (yes \\ no)\n"
          ]
        },
        {
          "output_type": "display_data",
          "data": {
            "text/plain": [
              "<IPython.core.display.Markdown object>"
            ],
            "text/markdown": "Project Name: Churn Analytics for a Telecom Company\nDataset: Database with over 20000 customers data, has features including contract, payment method, paperless billing, monthly charges, total charges, gender, age range and of course churn (yes/no)\nProject Flow: Business_Understanding,3 -> Data_Understanding,5 -> Data_Cleaning,7 -> Data_Exploration,5 -> Data_Visualization,5 -> Machine_Learning,7 -> Results_Evaluation,2 -> Business_Presentation,2\n\n\n**Step 1: Business Understanding (3 days)**\n\n* **Day 1:**\n    * Meet with stakeholders (telecom company representatives) to define the problem and objectives.  Clarify the definition of \"churn\" and its impact on the business.  Identify key performance indicators (KPIs) for success (e.g., reduction in churn rate by X%). Document all requirements and expectations.\n    * Initial brainstorming session with the data science team to explore potential approaches and data requirements.\n    * Define the scope of the project, including which customer segments will be analyzed and what types of churn predictions are needed (e.g., short-term, long-term).\n\n* **Day 2:**\n    * Research existing literature and industry best practices related to telecom churn prediction.\n    * Develop a preliminary project plan, including timelines, resource allocation, and potential risks.\n    * Refine the KPIs and success metrics based on the initial research and stakeholder discussions.\n\n* **Day 3:**\n    * Finalize the project scope and objectives document.  Get stakeholder sign-off on the document.\n    * Prepare a detailed data requirements document outlining the necessary data fields and their expected formats.\n    * Assign tasks to team members based on their expertise.\n\n\n**Step 2: Data Understanding (5 days)**\n\n* **Day 1:**\n    * Access and initial inspection of the dataset (20,000+ customer records).  Identify the data types of each feature.\n    * Check for data completeness (missing values) and consistency.  Generate summary statistics (mean, median, standard deviation, etc.) for each numerical feature.\n    * Document initial observations and potential data quality issues.\n\n* **Day 2:**\n    * Explore the distribution of the target variable (\"churn\").  Analyze the class imbalance (proportion of churned vs. non-churned customers).\n    * Investigate the relationships between the target variable and other features using descriptive statistics and basic visualizations (histograms, box plots).\n    * Identify potential outliers and anomalies in the data.\n\n* **Day 3:**\n    * Perform correlation analysis between features to identify potential multicollinearity.\n    * Deep dive into categorical features (contract, payment method, etc.) to understand their distribution and potential impact on churn.\n    * Document findings and potential data transformations needed.\n\n* **Day 4:**\n    * Conduct exploratory data analysis (EDA) on a sample of the data to gain a deeper understanding of the data patterns and relationships.\n    * Develop hypotheses about the factors driving customer churn based on the EDA findings.\n    * Refine the data requirements document based on the EDA results.\n\n* **Day 5:**\n    * Document the data understanding phase, including key findings, challenges, and proposed solutions.\n    * Prepare a presentation summarizing the data understanding phase for the team and stakeholders.\n\n\n**Step 3: Data Cleaning (7 days)**\n\n* **Day 1-2:** Handle missing values.  Decide on imputation strategies (mean, median, mode, or more sophisticated techniques) based on the nature of the missing data and the feature type. Implement chosen strategies.\n* **Day 3-4:** Address outliers.  Decide on outlier treatment strategies (removal, transformation, or capping). Implement chosen strategies.  Justify the chosen methods.\n* **Day 5:** Data transformation.  Convert categorical variables into numerical representations (one-hot encoding, label encoding).  Scale or normalize numerical features if necessary (standardization, min-max scaling).\n* **Day 6:** Data consistency checks.  Ensure data consistency across different features and identify and resolve any inconsistencies.\n* **Day 7:** Data validation.  Verify the accuracy and completeness of the cleaned data.  Document all data cleaning steps and decisions.\n\n\n**Step 4: Data Exploration (5 days)**\n\n* **Day 1-2:**  In-depth EDA focusing on relationships between features and churn.  Use advanced visualization techniques (scatter plots, heatmaps, pair plots).\n* **Day 3:** Feature engineering.  Create new features from existing ones to improve model performance (e.g., combining monthly charges and total charges).\n* **Day 4:** Feature selection.  Select the most relevant features for model building using techniques like correlation analysis, feature importance scores, or recursive feature elimination.\n* **Day 5:** Document findings from the data exploration phase, including insights gained and feature engineering/selection decisions.\n\n\n**Step 5: Data Visualization (5 days)**\n\n* **Day 1-2:** Create visualizations to communicate key findings from the data exploration phase to stakeholders.  Focus on clear and concise visualizations that highlight important trends and patterns.\n* **Day 3-4:** Develop interactive dashboards to allow stakeholders to explore the data and gain insights independently.\n* **Day 5:** Prepare a presentation summarizing the key visualizations and insights.\n\n\n**Step 6: Machine Learning (7 days)**\n\n* **Day 1-2:** Split the data into training, validation, and testing sets.\n* **Day 3-4:** Train multiple machine learning models (e.g., logistic regression, decision trees, random forests, support vector machines, gradient boosting).  Tune hyperparameters using techniques like grid search or cross-validation.\n* **Day 5:** Evaluate model performance using appropriate metrics (e.g., accuracy, precision, recall, F1-score, AUC-ROC).  Select the best-performing model based on the chosen metrics and business requirements.\n* **Day 6:**  Perform model diagnostics to identify potential issues and areas for improvement.\n* **Day 7:** Document the model selection process, including model performance metrics and rationale for choosing the final model.\n\n\n**Step 7: Results Evaluation (2 days)**\n\n* **Day 1:**  Thoroughly evaluate the performance of the chosen model on the test set.  Assess the model's robustness and generalizability.\n* **Day 2:**  Prepare a comprehensive report summarizing the model's performance, limitations, and potential areas for future improvement.\n\n\n**Step 8: Business Presentation (2 days)**\n\n* **Day 1:**  Prepare a presentation summarizing the project findings and recommendations for the telecom company.  Focus on communicating the key insights in a clear and concise manner.\n* **Day 2:**  Present the findings and recommendations to stakeholders.  Address any questions or concerns.  Discuss next steps and potential future work.\n"
          },
          "metadata": {}
        }
      ]
    },
    {
      "cell_type": "markdown",
      "source": [
        "## Chain-of-Thought (CoT) Pattern"
      ],
      "metadata": {
        "id": "HJf5VQ07QPAk"
      }
    },
    {
      "cell_type": "markdown",
      "source": [
        "### Zero Shot CoT"
      ],
      "metadata": {
        "id": "-LOe1wEmQVSh"
      }
    },
    {
      "cell_type": "markdown",
      "source": [
        "🧠 **Chain-of-Thought Zero-Shot Prompting** is a clever technique used to improve the reasoning abilities of large language models—without giving them any examples beforehand.\n",
        "\n",
        "### 🚀 What It Is\n",
        "- **Zero-Shot Prompting**: Asking a model to perform a task without showing examples.\n",
        "- **Chain-of-Thought (CoT)**: Encouraging the model to reason step-by-step before answering.\n",
        "- **Zero-Shot CoT**: Combines both by simply appending a phrase like _“Let’s think step by step”_ to the prompt. This nudges the model to generate intermediate reasoning steps even without prior examples.\n",
        "\n",
        "### 🧩 How It Works\n",
        "1. **Prompt**: Add “Let’s think step by step” to the end of a question.\n",
        "2. **Model Response**: The model breaks down the problem logically, often improving accuracy.\n",
        "3. **Answer Extraction**: The final answer is derived from the reasoning chain.\n",
        "\n",
        "### ✅ When to Use It\n",
        "- Great for **arithmetic**, **commonsense**, and **symbolic reasoning** tasks.\n"
      ],
      "metadata": {
        "id": "01slFemEQZ8s"
      }
    },
    {
      "cell_type": "code",
      "source": [
        "from IPython.display import display, Markdown\n",
        "\n",
        "prompt = \"\"\"Given the following game details,\n",
        "            How many yards was the shortest valid field goal?\n",
        "            Think step-by-step to get to your answer.\n",
        "            Show your step-by-step reasoning and then the answer.\n",
        "\n",
        "            Coming off their win over the Broncos, the Redskins flew to Cowboys Stadium\n",
        "            for their Week 11 NFC East rivalry match against the Dallas Cowboys.\n",
        "            After a scoreless first quarter, Washington would strike in the second quarter\n",
        "            as kicker Shaun Suisham nailed a 35-yard field goal.\n",
        "            The Redskins would try to add onto their lead in the third quarter\n",
        "            with Suisham booting a 31-yard field goal which was blocked.\n",
        "            However, in the fourth quarter, the Cowboys rallied as quarterback Tony Romo\n",
        "            completing a 10-yard touchdown pass to wide receiver Patrick Crayton.\n",
        "         \"\"\"\n",
        "\n",
        "response = gemini.generate_content(contents=prompt)\n",
        "display(Markdown(response.text))"
      ],
      "metadata": {
        "id": "zq5Q-2eM2bjH",
        "colab": {
          "base_uri": "https://localhost:8080/",
          "height": 151
        },
        "outputId": "bb66a0c7-7ccd-4dd8-ab7a-538e56e54766"
      },
      "execution_count": null,
      "outputs": [
        {
          "output_type": "display_data",
          "data": {
            "text/plain": [
              "<IPython.core.display.Markdown object>"
            ],
            "text/markdown": "Step 1: Identify the field goals mentioned in the text.  The text mentions two field goal attempts by Shaun Suisham: a successful 35-yard field goal and a blocked 31-yard field goal.\n\nStep 2: Determine which field goal was shorter. The 31-yard field goal was shorter than the 35-yard field goal.\n\nStep 3:  The question asks for the shortest *valid* field goal.  The 31-yard field goal was blocked, meaning it was not a valid field goal. Therefore, the shortest *valid* field goal was the 35-yard field goal.\n\nAnswer: 35 yards\n"
          },
          "metadata": {}
        }
      ]
    },
    {
      "cell_type": "markdown",
      "source": [
        "### Few-Shot CoT"
      ],
      "metadata": {
        "id": "3gQI4XZEQxPR"
      }
    },
    {
      "cell_type": "markdown",
      "source": [
        "### 🧠 Few-Shot Chain-of-Thought (CoT) Prompting\n",
        "\n",
        "Few-Shot CoT Prompting is a technique that combines **few-shot learning** with **step-by-step reasoning** to improve the performance of large language models on complex tasks.\n",
        "\n",
        "\n",
        "### 📘 What It Is\n",
        "- **Few-Shot Prompting**: You provide the model with a few examples of input-output pairs to guide its behavior.\n",
        "- **Chain-of-Thought Prompting**: You encourage the model to reason step-by-step before answering.\n",
        "- **Few-Shot CoT**: You give the model a few examples that include both the question and the detailed reasoning process leading to the answer.\n",
        "\n",
        "\n",
        "\n",
        "### ✅ Benefits\n",
        "- Helps the model learn the structure of reasoning.\n",
        "- Improves accuracy on multi-step problems.\n",
        "- Reduces hallucinations and shallow answers.\n",
        "\n",
        "\n",
        "### ⚠️ Limitations\n",
        "\n",
        "| Limitation | Description |\n",
        "|-----------|-------------|\n",
        "| 📚 **Example Dependency** | Requires carefully chosen examples; poor examples lead to poor performance. |\n",
        "| 🧠 **Cognitive Load** | Long prompts may overwhelm smaller models or exceed token limits. |\n",
        "| 🎯 **Task Specificity** | Works best for structured tasks like math, logic, and factual reasoning. |\n",
        "| 🔄 **Generalization Risk** | May not generalize well to very different or novel tasks. |\n"
      ],
      "metadata": {
        "id": "9AAmJ36hQ1yV"
      }
    },
    {
      "cell_type": "code",
      "source": [
        "from IPython.display import display, Markdown\n",
        "\n",
        "prompt = \"\"\"Given the following game details,\n",
        "            How many yards was the shortest valid field goal?\n",
        "            Think step-by-step to get to your answer similar to the following examples:\n",
        "\n",
        "            Example 1:\n",
        "            Q: Roger has 5 tennis balls. He buys 2 more cans of tennis balls.\n",
        "               Each can has 3 tennis balls. How many tennis balls does he have now?\n",
        "\n",
        "            Reasoning:\n",
        "              Step 1: Roger started with 5 balls.\n",
        "              Step 2: 2 cans of 3 tennis balls each is 6 tennis balls in total.\n",
        "              Step 3: 5 + 6 = 11 tennis balls.\n",
        "\n",
        "            A: 11 Tennis Balls\n",
        "\n",
        "            Example 2:\n",
        "            Q: How many keystrokes are needed to type the numbers from 1 to 500?\n",
        "\n",
        "            Reasoning:\n",
        "              Step 1: There are 9 one-digit numbers from 1 to 9.\n",
        "              Step 2: There are 90 two-digit numbers from 10 to 99.\n",
        "              Step 3: There are 401 three-digit numbers from 100 to 500.\n",
        "              Step 4: Adding all of them up, 9 + 90 + 401 = 1392 keystrokes.\n",
        "\n",
        "            A: 1392 keystrokes\n",
        "\n",
        "\n",
        "            Q: Coming off their win over the Broncos, the Redskins flew to Cowboys Stadium\n",
        "            for their Week 11 NFC East rivalry match against the Dallas Cowboys.\n",
        "            After a scoreless first quarter, Washington would strike in the second quarter\n",
        "            as kicker Shaun Suisham nailed a 35-yard field goal.\n",
        "            The Redskins would try to add onto their lead in the third quarter\n",
        "            with Suisham booting a 31-yard field goal which was blocked.\n",
        "            However, in the fourth quarter, the Cowboys rallied as quarterback Tony Romo\n",
        "            completing a 10-yard touchdown pass to wide receiver Patrick Crayton.\n",
        "         \"\"\"\n",
        "\n",
        "response = gemini.generate_content(contents=prompt)\n",
        "display(Markdown(response.text))"
      ],
      "metadata": {
        "id": "OEU40441QPm6",
        "colab": {
          "base_uri": "https://localhost:8080/",
          "height": 104
        },
        "outputId": "4161f60c-1a03-4c76-819b-31493290ea0f"
      },
      "execution_count": null,
      "outputs": [
        {
          "output_type": "display_data",
          "data": {
            "text/plain": [
              "<IPython.core.display.Markdown object>"
            ],
            "text/markdown": "Reasoning:\nStep 1: Shaun Suisham made a 35-yard field goal.\nStep 2: Shaun Suisham attempted a 31-yard field goal, but it was blocked.\nStep 3: The shortest successful field goal was the 31-yard attempt (although it was blocked, it was still a valid attempt).\nStep 4:  The question asks for the shortest *valid* field goal.  A blocked field goal is still a valid attempt.\n\nA: 31 yards\n"
          },
          "metadata": {}
        }
      ]
    },
    {
      "cell_type": "markdown",
      "source": [
        "## Self-Consistency Pattern"
      ],
      "metadata": {
        "id": "tfqtP9vMRAJr"
      }
    },
    {
      "cell_type": "markdown",
      "source": [
        "### 🔁 Self-Consistency Pattern Prompting\n",
        "\n",
        "**Self-Consistency Prompting** is a powerful technique in prompt engineering that enhances the reasoning accuracy of large language models (LLMs) by generating multiple outputs and selecting the most consistent answer among them.\n",
        "\n",
        "### 🧠 Core Idea\n",
        "\n",
        "Instead of relying on a single response, the model:\n",
        "1. **Generates multiple reasoning paths** for the same prompt.\n",
        "2. **Aggregates the results** to identify the most frequently occurring or logically consistent answer.\n",
        "3. **Selects the final output** based on consensus or majority vote.\n",
        "\n",
        "This method was introduced by Google researchers in 2023 and is especially effective for tasks involving arithmetic, commonsense reasoning, and symbolic logic.\n",
        "\n",
        "\n",
        "### 🛠️ How to Use It\n",
        "\n",
        "1. **Start with Chain-of-Thought (CoT) Prompting**: Provide step-by-step reasoning examples.\n",
        "2. **Sample Diverse Outputs**: Run the same prompt multiple times to get varied reasoning paths.\n",
        "3. **Aggregate Responses**: Use majority voting or consistency checks to select the final answer.\n",
        "\n",
        "### ✅ Benefits\n",
        "\n",
        "| Feature | Advantage |\n",
        "|--------|-----------|\n",
        "| 🔍 Multiple Reasoning Paths | Reduces reliance on a single flawed logic chain |\n",
        "| 📊 Aggregation | Improves reliability and accuracy |\n",
        "| 🧩 Versatility | Works well for math, logic, and commonsense tasks |\n",
        "\n",
        "### ⚠️ Considerations\n",
        "\n",
        "- Requires multiple model runs, which can be computationally expensive.\n",
        "- Best suited for tasks with **objective answers**.\n",
        "- May not be ideal for open-ended or creative tasks unless adapted (e.g., Universal Self-Consistency).\n"
      ],
      "metadata": {
        "id": "BPgBOanZREHx"
      }
    },
    {
      "cell_type": "code",
      "source": [
        "from langchain_core.prompts import ChatPromptTemplate\n",
        "\n",
        "cot_prompt_txt = \"\"\"Given the following problem,\n",
        "                    Think step-by-step to get to your answer similar to the following example:\n",
        "\n",
        "                    Example 1:\n",
        "                    Q: Roger has 5 tennis balls. He buys 2 more cans of tennis balls.\n",
        "                    Each can has 3 tennis balls. How many tennis balls does he have now?\n",
        "\n",
        "                    Reasoning:\n",
        "                    Step 1: Roger started with 5 balls.\n",
        "                    Step 2: 2 cans of 3 tennis balls each is 6 tennis balls in total.\n",
        "                    Step 3: 5 + 6 = 11 tennis balls.\n",
        "\n",
        "                    A: 11 Tennis Balls\n",
        "\n",
        "                    Problem:\n",
        "                    {problem}\n",
        "                \"\"\"\n",
        "\n",
        "cot_prompt = ChatPromptTemplate.from_template(cot_prompt_txt)\n",
        "cot_prompt.pretty_print()"
      ],
      "metadata": {
        "id": "6_sh3rQ_RA3G",
        "colab": {
          "base_uri": "https://localhost:8080/"
        },
        "outputId": "6ae8535a-b636-49bc-a061-797433741de4"
      },
      "execution_count": null,
      "outputs": [
        {
          "output_type": "stream",
          "name": "stdout",
          "text": [
            "================================\u001b[1m Human Message \u001b[0m=================================\n",
            "\n",
            "Given the following problem,\n",
            "                    Think step-by-step to get to your answer similar to the following example:\n",
            "\n",
            "                    Example 1:\n",
            "                    Q: Roger has 5 tennis balls. He buys 2 more cans of tennis balls.\n",
            "                    Each can has 3 tennis balls. How many tennis balls does he have now?\n",
            "\n",
            "                    Reasoning:\n",
            "                    Step 1: Roger started with 5 balls.\n",
            "                    Step 2: 2 cans of 3 tennis balls each is 6 tennis balls in total.\n",
            "                    Step 3: 5 + 6 = 11 tennis balls.\n",
            "\n",
            "                    A: 11 Tennis Balls\n",
            "\n",
            "                    Problem:\n",
            "                    \u001b[33;1m\u001b[1;3m{problem}\u001b[0m\n",
            "                \n"
          ]
        }
      ]
    },
    {
      "cell_type": "code",
      "source": [
        "self_con_prompt_txt = \"\"\"Given the following problem\n",
        "                         and 3 diverse reasoning paths explored by an AI model\n",
        "                         analyse these pathways carefully,\n",
        "                         aggregate, take the majority vote as needed\n",
        "                         and generate a final single reasoning path along with the answer\n",
        "\n",
        "                         AI Model Reasoning Path 1:\n",
        "                         {reasoning_path_1}\n",
        "\n",
        "                         AI Model Reasoning Path 2:\n",
        "                         {reasoning_path_2}\n",
        "\n",
        "                         AI Model Reasoning Path 3:\n",
        "                         {reasoning_path_3}\n",
        "\n",
        "                         Problem:\n",
        "                         {problem}\n",
        "                    \"\"\"\n",
        "\n",
        "self_con_prompt = ChatPromptTemplate.from_template(self_con_prompt_txt)\n",
        "self_con_prompt.pretty_print()"
      ],
      "metadata": {
        "id": "aOjxbIy0RO3f",
        "colab": {
          "base_uri": "https://localhost:8080/"
        },
        "outputId": "68a70b73-8d43-4fab-8051-784239a63563"
      },
      "execution_count": null,
      "outputs": [
        {
          "output_type": "stream",
          "name": "stdout",
          "text": [
            "================================\u001b[1m Human Message \u001b[0m=================================\n",
            "\n",
            "Given the following problem\n",
            "                         and 3 diverse reasoning paths explored by an AI model\n",
            "                         analyse these pathways carefully,\n",
            "                         aggregate, take the majority vote as needed\n",
            "                         and generate a final single reasoning path along with the answer\n",
            "\n",
            "                         AI Model Reasoning Path 1:\n",
            "                         \u001b[33;1m\u001b[1;3m{reasoning_path_1}\u001b[0m\n",
            "\n",
            "                         AI Model Reasoning Path 2:\n",
            "                         \u001b[33;1m\u001b[1;3m{reasoning_path_2}\u001b[0m\n",
            "\n",
            "                         AI Model Reasoning Path 3:\n",
            "                         \u001b[33;1m\u001b[1;3m{reasoning_path_3}\u001b[0m\n",
            "\n",
            "                         Problem:\n",
            "                         \u001b[33;1m\u001b[1;3m{problem}\u001b[0m\n",
            "                    \n"
          ]
        }
      ]
    },
    {
      "cell_type": "code",
      "source": [
        "question = \"\"\"Q: Coming off their win over the Broncos, the Redskins flew to Cowboys Stadium\n",
        "            for their Week 11 NFC East rivalry match against the Dallas Cowboys.\n",
        "            After a scoreless first quarter, Washington would strike in the second quarter\n",
        "            as kicker Shaun Suisham nailed a 35-yard field goal.\n",
        "            The Redskins would try to add onto their lead in the third quarter\n",
        "            with Suisham booting a 31-yard field goal which was blocked.\n",
        "            However, in the fourth quarter, the Cowboys rallied as quarterback Tony Romo\n",
        "            completing a 10-yard touchdown pass to wide receiver Patrick Crayton.\n",
        "            How many yards was the shortest valid field goal?\n",
        "           \"\"\""
      ],
      "metadata": {
        "id": "09tL0_4yRmn-"
      },
      "execution_count": null,
      "outputs": []
    },
    {
      "cell_type": "markdown",
      "source": [
        "## Least to Most Prompting"
      ],
      "metadata": {
        "id": "M2eZOtGPRqnC"
      }
    },
    {
      "cell_type": "markdown",
      "source": [
        "### 🧩 Least-to-Most Prompting (LtM)\n",
        "\n",
        "**Least-to-Most Prompting** is a structured prompt engineering technique designed to help large language models solve complex problems by breaking them down into simpler, sequential subproblems. It builds on the principles of **Chain-of-Thought (CoT)** prompting but adds a more systematic decomposition and reasoning flow.\n",
        "\n",
        "### 🧠 Core Concept\n",
        "\n",
        "Instead of solving a complex problem all at once, LtM prompting:\n",
        "1. **Decomposes** the problem into a series of simpler subproblems.\n",
        "2. **Solves each subproblem sequentially**, feeding the solution of one into the next.\n",
        "3. **Builds up to the final answer**, using minimal guidance at first and increasing support only as needed.\n",
        "\n",
        "This mirrors how humans often learn: starting with basic steps and gradually tackling more difficult ones.\n",
        "\n",
        "### ✅ Benefits\n",
        "\n",
        "| Feature | Advantage |\n",
        "|--------|-----------|\n",
        "| 🧠 Structured Reasoning | Breaks down complexity into manageable steps |\n",
        "| 📈 Improved Accuracy | Outperforms CoT on harder tasks |\n",
        "| 🔄 Reusability | Can be adapted to various domains (math, logic, customer service) |\n",
        "| 🧪 Few-Shot Compatible | Works well with few-shot examples to guide decomposition |\n",
        "\n",
        "### 🔬 Research Insights\n",
        "\n",
        "- LtM prompting has shown **99% accuracy** on compositional generalization benchmarks like SCAN, compared to **16%** with CoT.\n",
        "- It’s especially effective for **symbolic manipulation**, **multi-step math**, and **logical reasoning**.\n",
        "task—like math problems, customer queries, or even creative writing?"
      ],
      "metadata": {
        "id": "o1uH7xBERuXe"
      }
    },
    {
      "cell_type": "code",
      "source": [
        "PROMPT = \"\"\"You are a strong reasoning agent.\n",
        "            Respond to user question with concise and helpful information.\n",
        "            Follow the format as mentioned in the example,\n",
        "            break down the problem first into sub problems,\n",
        "            answer each sub problem sequentially, analyze it\n",
        "            and then get to the final answer.\n",
        "            Do not jump directly to the answer\n",
        "\n",
        "            Example:\n",
        "\n",
        "            Q: Against Tim Tebow and the Broncos, the two teams would be in a 0-0 deadlock\n",
        "            in the first half, though the Broncos would nearly score in the second quarter\n",
        "            on a 28-yard field goal, which would then be blocked by Julius Peppers.\n",
        "            The Bears would then score 10 points on Marion Barber's 9-yard touchdown run,\n",
        "            and Robbie Gould's team record-breaking 57-yard field goal, but Tebow's touchdown pass\n",
        "            to Demaryius Thomas and Matt Prater's 59-yard field goal would tie the game.\n",
        "            Barber would commit two costly mistakes during the late portion of the game.\n",
        "            In the fourth quarter, Barber would run out of bounds with 1:55 left,\n",
        "            and Barber would also fumble in overtime.\n",
        "            The Broncos would then move downfield and kick a game-winning field goal.\n",
        "            How many yards was the games longest field goal?\n",
        "\n",
        "            Response:\n",
        "            Let's break down this problem into subproblems:\n",
        "              1. What were the field goals when field goal was?\n",
        "              2. How many yards was the games longest field goal?\n",
        "\n",
        "            The answer to subproblems are as follows:\n",
        "              1. The field goals were 28-yard,  57-yard and  59-yard which are all valid goals\n",
        "              2. The maximum value out of  59-yard, 28-yard and 57-yard is 59\n",
        "\n",
        "            A: The final answer is 59 yards.\n",
        "\n",
        "            Question:\n",
        "            {query}\n",
        "        \"\"\"\n",
        "\n",
        "query = \"\"\"Coming off their win over the Broncos, the Redskins flew to Cowboys Stadium\n",
        "           for their Week 11 NFC East rivalry match against the Dallas Cowboys.\n",
        "           After a scoreless first quarter, Washington would strike in the second quarter\n",
        "           as kicker Shaun Suisham nailed a 35-yard field goal.\n",
        "           The Redskins would try to add onto their lead in the third quarter\n",
        "           with Suisham booting a 31-yard field goal which was blocked.\n",
        "           However, in the fourth quarter, the Cowboys rallied as quarterback Tony Romo\n",
        "           completing a 10-yard touchdown pass to wide receiver Patrick Crayton.\n",
        "           How many yards was the shortest valid field goal?\n",
        "        \"\"\"\n",
        "\n",
        "prompt = ChatPromptTemplate.from_template(PROMPT)\n",
        "\n",
        "chain = (prompt\n",
        "           |\n",
        "         gemini_model\n",
        ")\n",
        "\n",
        "response = chain.invoke({\"query\": query})\n",
        "print(response.content)"
      ],
      "metadata": {
        "id": "ppPmE3H_RrOu",
        "colab": {
          "base_uri": "https://localhost:8080/",
          "height": 277
        },
        "outputId": "44595d4b-a40c-4127-a624-aecbf817581b"
      },
      "execution_count": null,
      "outputs": [
        {
          "output_type": "stream",
          "name": "stdout",
          "text": [
            "Let's break down this problem into subproblems:\n",
            "\n",
            "1. What were the field goal attempts?\n",
            "2. Which field goal attempts were successful?\n",
            "3. What was the shortest successful field goal?\n",
            "\n",
            "\n",
            "The answer to subproblems are as follows:\n",
            "\n",
            "1. The field goal attempts were a 35-yard field goal and a 31-yard field goal.\n",
            "2. Only the 35-yard field goal was successful; the 31-yard attempt was blocked.\n",
            "3. The shortest successful field goal was the 35-yard field goal.\n",
            "\n",
            "A: The final answer is 35 yards.\n",
            "\n"
          ]
        }
      ]
    },
    {
      "cell_type": "markdown",
      "source": [
        "## ReAct Prompting - Agentic AI Flow"
      ],
      "metadata": {
        "id": "Ctt6-nkDR5YV"
      }
    },
    {
      "cell_type": "markdown",
      "source": [
        "### 🔄 ReAct Prompting – Agentic AI Flow Prompt\n",
        "\n",
        "**ReAct Prompting** (short for **Reasoning + Acting**) is a powerful prompting technique that enables large language models to behave more like intelligent agents. It combines **Chain-of-Thought (CoT) reasoning** with **action execution**, allowing models to think step-by-step and interact with external tools or environments to gather information and refine their decisions.\n",
        "\n",
        "### 🧠 What Is ReAct Prompting?\n",
        "\n",
        "ReAct prompting guides a model through a loop of:\n",
        "1. **Thought** – Reasoning about the current situation.\n",
        "2. **Action** – Taking a specific action (e.g., querying a tool, searching a database).\n",
        "3. **Observation** – Receiving feedback from the action.\n",
        "4. **Repeat** – Using the observation to inform the next thought.\n",
        "\n",
        "This cycle continues until the model reaches a **Final Answer**.\n",
        "\n",
        "### 🧬 Agentic AI Flow\n",
        "\n",
        "ReAct is foundational to **Agentic AI**, where models behave like autonomous agents that:\n",
        "- **Plan** their approach\n",
        "- **Interact** with tools or environments\n",
        "- **Adapt** based on feedback\n",
        "- **Decide** with contextual awareness\n",
        "\n",
        "This flow enables dynamic problem-solving, especially in tasks like:\n",
        "- Web search and retrieval\n",
        "- Function calling\n",
        "- Decision-making under uncertainty\n",
        "- Multi-step planning\n",
        "\n",
        "### ✅ Benefits\n",
        "\n",
        "| Feature | Advantage |\n",
        "|--------|-----------|\n",
        "| 🔄 Thought-Action Loop | Enables iterative reasoning and refinement |\n",
        "| 🌐 External Interaction | Allows models to query tools or databases |\n",
        "| 🧠 Enhanced Reasoning | Combines CoT with real-world feedback |\n",
        "| 🧩 Modular & Customizable | Easily adapted to different domains and tasks |\n",
        "\n",
        "### ⚠️ Limitations\n",
        "\n",
        "| Limitation | Description |\n",
        "|-----------|-------------|\n",
        "| 🧮 Complexity | Requires structured prompts and tool integration |\n",
        "| 🔄 Latency | Multiple steps can slow down response time |\n",
        "| 🧪 Tool Dependency | Effectiveness depends on the quality of external tools |\n",
        "| 🧠 Overfitting | May over-rely on scripted patterns if not varied enough |"
      ],
      "metadata": {
        "id": "2WluLs0BR-Ww"
      }
    },
    {
      "cell_type": "code",
      "source": [
        "prompt = \"\"\"Tell me about LangGraph in detail including who made it and key features.\n",
        "            Do not make up answers, only answer if you are sure\"\"\"\n",
        "\n",
        "# it will either not answer or end up hallucinating the answer\n",
        "response = gemini.generate_content(contents=prompt)\n",
        "display(Markdown(response.text))"
      ],
      "metadata": {
        "id": "DdhUiq2VR6M-",
        "colab": {
          "base_uri": "https://localhost:8080/",
          "height": 81
        },
        "outputId": "f4431ddd-e519-4a00-e05b-570877fd9584"
      },
      "execution_count": null,
      "outputs": [
        {
          "output_type": "display_data",
          "data": {
            "text/plain": [
              "<IPython.core.display.Markdown object>"
            ],
            "text/markdown": "I don't have enough information to answer this question.  There is no widely known or established project or tool called \"LangGraph\" in the public domain that I can find information about.  It's possible this is a very new, niche project, an internal tool, or the name is slightly different.  If you can provide more context (e.g., a link, a publication, the organization that developed it), I might be able to provide a more accurate answer.\n"
          },
          "metadata": {}
        }
      ]
    },
    {
      "cell_type": "code",
      "source": [
        "from langchain_community.utilities import DuckDuckGoSearchAPIWrapper\n",
        "from langchain_community.tools import DuckDuckGoSearchResults\n",
        "from langchain_core.tools import tool\n",
        "from bs4 import BeautifulSoup\n",
        "import requests\n",
        "from tqdm import tqdm\n",
        "\n",
        "@tool\n",
        "def search_web(query: str) -> list:\n",
        "    \"\"\"Search the web for a query.\"\"\"\n",
        "    print('Searching web and extracting page info')\n",
        "    wrapper = DuckDuckGoSearchAPIWrapper(max_results=5)\n",
        "    results = wrapper.results(query, max_results=5)\n",
        "    docs = []\n",
        "    for result in tqdm(results):\n",
        "        # Sending a request to the URL\n",
        "        response = requests.get(result['link'])\n",
        "        # Parsing the page content\n",
        "        soup = BeautifulSoup(response.content, 'html.parser')\n",
        "        # Extracting all text content from the page\n",
        "        text_content = soup.get_text(separator=\"\\n\", strip=True)\n",
        "        docs.append(text_content)\n",
        "    return docs"
      ],
      "metadata": {
        "id": "M2i3wIEPSGUr"
      },
      "execution_count": null,
      "outputs": []
    },
    {
      "cell_type": "code",
      "metadata": {
        "id": "59412f60",
        "colab": {
          "base_uri": "https://localhost:8080/"
        },
        "outputId": "04753859-63ff-4492-9ffe-01a2920fc7e7"
      },
      "source": [
        "!pip install -U duckduckgo-search"
      ],
      "execution_count": null,
      "outputs": [
        {
          "output_type": "stream",
          "name": "stdout",
          "text": [
            "Collecting duckduckgo-search\n",
            "  Downloading duckduckgo_search-8.1.1-py3-none-any.whl.metadata (16 kB)\n",
            "Requirement already satisfied: click>=8.1.8 in /usr/local/lib/python3.12/dist-packages (from duckduckgo-search) (8.2.1)\n",
            "Collecting primp>=0.15.0 (from duckduckgo-search)\n",
            "  Downloading primp-0.15.0-cp38-abi3-manylinux_2_17_x86_64.manylinux2014_x86_64.whl.metadata (13 kB)\n",
            "Requirement already satisfied: lxml>=5.3.0 in /usr/local/lib/python3.12/dist-packages (from duckduckgo-search) (5.4.0)\n",
            "Downloading duckduckgo_search-8.1.1-py3-none-any.whl (18 kB)\n",
            "Downloading primp-0.15.0-cp38-abi3-manylinux_2_17_x86_64.manylinux2014_x86_64.whl (3.3 MB)\n",
            "\u001b[2K   \u001b[90m━━━━━━━━━━━━━━━━━━━━━━━━━━━━━━━━━━━━━━━━\u001b[0m \u001b[32m3.3/3.3 MB\u001b[0m \u001b[31m87.6 MB/s\u001b[0m eta \u001b[36m0:00:00\u001b[0m\n",
            "\u001b[?25hInstalling collected packages: primp, duckduckgo-search\n",
            "Successfully installed duckduckgo-search-8.1.1 primp-0.15.0\n"
          ]
        }
      ]
    },
    {
      "cell_type": "code",
      "source": [
        "from datetime import datetime, timezone\n",
        "datetime.now(timezone.utc)"
      ],
      "metadata": {
        "id": "e7X3pLSCwN3D",
        "colab": {
          "base_uri": "https://localhost:8080/"
        },
        "outputId": "5fc231de-52a4-49e6-e2f3-af1c45837257"
      },
      "execution_count": null,
      "outputs": [
        {
          "output_type": "execute_result",
          "data": {
            "text/plain": [
              "datetime.datetime(2025, 8, 23, 20, 0, 57, 19690, tzinfo=datetime.timezone.utc)"
            ]
          },
          "metadata": {},
          "execution_count": 46
        }
      ]
    },
    {
      "cell_type": "code",
      "source": [
        "r = search_web('What is langgraph')"
      ],
      "metadata": {
        "id": "iGNxMiaLSIzt",
        "colab": {
          "base_uri": "https://localhost:8080/"
        },
        "outputId": "fd5e892d-dda3-4888-ba02-bed50831fda9"
      },
      "execution_count": null,
      "outputs": [
        {
          "output_type": "stream",
          "name": "stderr",
          "text": [
            "/tmp/ipython-input-2017995428.py:1: LangChainDeprecationWarning: The method `BaseTool.__call__` was deprecated in langchain-core 0.1.47 and will be removed in 1.0. Use :meth:`~invoke` instead.\n",
            "  r = search_web('What is langgraph')\n",
            "/usr/local/lib/python3.12/dist-packages/langchain_community/utilities/duckduckgo_search.py:63: RuntimeWarning: This package (`duckduckgo_search`) has been renamed to `ddgs`! Use `pip install ddgs` instead.\n",
            "  with DDGS() as ddgs:\n",
            "/usr/local/lib/python3.12/dist-packages/langchain_community/utilities/duckduckgo_search.py:64: UserWarning: backend='api' is deprecated, using backend='auto'\n",
            "  ddgs_gen = ddgs.text(\n"
          ]
        },
        {
          "output_type": "stream",
          "name": "stdout",
          "text": [
            "Searching web and extracting page info\n"
          ]
        },
        {
          "output_type": "stream",
          "name": "stderr",
          "text": [
            "/usr/local/lib/python3.12/dist-packages/jupyter_client/session.py:151: DeprecationWarning: datetime.datetime.utcnow() is deprecated and scheduled for removal in a future version. Use timezone-aware objects to represent datetimes in UTC: datetime.datetime.now(datetime.UTC).\n",
            "  return datetime.utcnow().replace(tzinfo=utc)\n",
            "/usr/local/lib/python3.12/dist-packages/jupyter_client/session.py:151: DeprecationWarning: datetime.datetime.utcnow() is deprecated and scheduled for removal in a future version. Use timezone-aware objects to represent datetimes in UTC: datetime.datetime.now(datetime.UTC).\n",
            "  return datetime.utcnow().replace(tzinfo=utc)\n",
            "/usr/local/lib/python3.12/dist-packages/jupyter_client/session.py:151: DeprecationWarning: datetime.datetime.utcnow() is deprecated and scheduled for removal in a future version. Use timezone-aware objects to represent datetimes in UTC: datetime.datetime.now(datetime.UTC).\n",
            "  return datetime.utcnow().replace(tzinfo=utc)\n",
            "  0%|          | 0/5 [00:00<?, ?it/s]/usr/local/lib/python3.12/dist-packages/jupyter_client/session.py:151: DeprecationWarning: datetime.datetime.utcnow() is deprecated and scheduled for removal in a future version. Use timezone-aware objects to represent datetimes in UTC: datetime.datetime.now(datetime.UTC).\n",
            "  return datetime.utcnow().replace(tzinfo=utc)\n",
            "/usr/local/lib/python3.12/dist-packages/jupyter_client/session.py:151: DeprecationWarning: datetime.datetime.utcnow() is deprecated and scheduled for removal in a future version. Use timezone-aware objects to represent datetimes in UTC: datetime.datetime.now(datetime.UTC).\n",
            "  return datetime.utcnow().replace(tzinfo=utc)\n",
            "/usr/local/lib/python3.12/dist-packages/jupyter_client/session.py:151: DeprecationWarning: datetime.datetime.utcnow() is deprecated and scheduled for removal in a future version. Use timezone-aware objects to represent datetimes in UTC: datetime.datetime.now(datetime.UTC).\n",
            "  return datetime.utcnow().replace(tzinfo=utc)\n",
            "/usr/local/lib/python3.12/dist-packages/jupyter_client/session.py:151: DeprecationWarning: datetime.datetime.utcnow() is deprecated and scheduled for removal in a future version. Use timezone-aware objects to represent datetimes in UTC: datetime.datetime.now(datetime.UTC).\n",
            "  return datetime.utcnow().replace(tzinfo=utc)\n",
            "/usr/local/lib/python3.12/dist-packages/jupyter_client/session.py:151: DeprecationWarning: datetime.datetime.utcnow() is deprecated and scheduled for removal in a future version. Use timezone-aware objects to represent datetimes in UTC: datetime.datetime.now(datetime.UTC).\n",
            "  return datetime.utcnow().replace(tzinfo=utc)\n",
            "/usr/local/lib/python3.12/dist-packages/jupyter_client/session.py:151: DeprecationWarning: datetime.datetime.utcnow() is deprecated and scheduled for removal in a future version. Use timezone-aware objects to represent datetimes in UTC: datetime.datetime.now(datetime.UTC).\n",
            "  return datetime.utcnow().replace(tzinfo=utc)\n",
            "/usr/local/lib/python3.12/dist-packages/jupyter_client/session.py:151: DeprecationWarning: datetime.datetime.utcnow() is deprecated and scheduled for removal in a future version. Use timezone-aware objects to represent datetimes in UTC: datetime.datetime.now(datetime.UTC).\n",
            "  return datetime.utcnow().replace(tzinfo=utc)\n",
            "/usr/local/lib/python3.12/dist-packages/jupyter_client/session.py:151: DeprecationWarning: datetime.datetime.utcnow() is deprecated and scheduled for removal in a future version. Use timezone-aware objects to represent datetimes in UTC: datetime.datetime.now(datetime.UTC).\n",
            "  return datetime.utcnow().replace(tzinfo=utc)\n",
            "/usr/local/lib/python3.12/dist-packages/jupyter_client/session.py:151: DeprecationWarning: datetime.datetime.utcnow() is deprecated and scheduled for removal in a future version. Use timezone-aware objects to represent datetimes in UTC: datetime.datetime.now(datetime.UTC).\n",
            "  return datetime.utcnow().replace(tzinfo=utc)\n",
            "/usr/local/lib/python3.12/dist-packages/jupyter_client/session.py:151: DeprecationWarning: datetime.datetime.utcnow() is deprecated and scheduled for removal in a future version. Use timezone-aware objects to represent datetimes in UTC: datetime.datetime.now(datetime.UTC).\n",
            "  return datetime.utcnow().replace(tzinfo=utc)\n",
            "/usr/local/lib/python3.12/dist-packages/jupyter_client/session.py:151: DeprecationWarning: datetime.datetime.utcnow() is deprecated and scheduled for removal in a future version. Use timezone-aware objects to represent datetimes in UTC: datetime.datetime.now(datetime.UTC).\n",
            "  return datetime.utcnow().replace(tzinfo=utc)\n",
            "/usr/local/lib/python3.12/dist-packages/jupyter_client/session.py:151: DeprecationWarning: datetime.datetime.utcnow() is deprecated and scheduled for removal in a future version. Use timezone-aware objects to represent datetimes in UTC: datetime.datetime.now(datetime.UTC).\n",
            "  return datetime.utcnow().replace(tzinfo=utc)\n",
            "/usr/local/lib/python3.12/dist-packages/jupyter_client/session.py:151: DeprecationWarning: datetime.datetime.utcnow() is deprecated and scheduled for removal in a future version. Use timezone-aware objects to represent datetimes in UTC: datetime.datetime.now(datetime.UTC).\n",
            "  return datetime.utcnow().replace(tzinfo=utc)\n",
            "/usr/local/lib/python3.12/dist-packages/jupyter_client/session.py:151: DeprecationWarning: datetime.datetime.utcnow() is deprecated and scheduled for removal in a future version. Use timezone-aware objects to represent datetimes in UTC: datetime.datetime.now(datetime.UTC).\n",
            "  return datetime.utcnow().replace(tzinfo=utc)\n",
            "/usr/local/lib/python3.12/dist-packages/jupyter_client/session.py:151: DeprecationWarning: datetime.datetime.utcnow() is deprecated and scheduled for removal in a future version. Use timezone-aware objects to represent datetimes in UTC: datetime.datetime.now(datetime.UTC).\n",
            "  return datetime.utcnow().replace(tzinfo=utc)\n",
            "/usr/local/lib/python3.12/dist-packages/jupyter_client/session.py:151: DeprecationWarning: datetime.datetime.utcnow() is deprecated and scheduled for removal in a future version. Use timezone-aware objects to represent datetimes in UTC: datetime.datetime.now(datetime.UTC).\n",
            "  return datetime.utcnow().replace(tzinfo=utc)\n",
            "/usr/local/lib/python3.12/dist-packages/jupyter_client/session.py:151: DeprecationWarning: datetime.datetime.utcnow() is deprecated and scheduled for removal in a future version. Use timezone-aware objects to represent datetimes in UTC: datetime.datetime.now(datetime.UTC).\n",
            "  return datetime.utcnow().replace(tzinfo=utc)\n",
            " 20%|██        | 1/5 [00:01<00:04,  1.19s/it]/usr/local/lib/python3.12/dist-packages/jupyter_client/session.py:151: DeprecationWarning: datetime.datetime.utcnow() is deprecated and scheduled for removal in a future version. Use timezone-aware objects to represent datetimes in UTC: datetime.datetime.now(datetime.UTC).\n",
            "  return datetime.utcnow().replace(tzinfo=utc)\n",
            "/usr/local/lib/python3.12/dist-packages/jupyter_client/session.py:151: DeprecationWarning: datetime.datetime.utcnow() is deprecated and scheduled for removal in a future version. Use timezone-aware objects to represent datetimes in UTC: datetime.datetime.now(datetime.UTC).\n",
            "  return datetime.utcnow().replace(tzinfo=utc)\n",
            "/usr/local/lib/python3.12/dist-packages/jupyter_client/session.py:151: DeprecationWarning: datetime.datetime.utcnow() is deprecated and scheduled for removal in a future version. Use timezone-aware objects to represent datetimes in UTC: datetime.datetime.now(datetime.UTC).\n",
            "  return datetime.utcnow().replace(tzinfo=utc)\n",
            "/usr/local/lib/python3.12/dist-packages/jupyter_client/session.py:151: DeprecationWarning: datetime.datetime.utcnow() is deprecated and scheduled for removal in a future version. Use timezone-aware objects to represent datetimes in UTC: datetime.datetime.now(datetime.UTC).\n",
            "  return datetime.utcnow().replace(tzinfo=utc)\n",
            "/usr/local/lib/python3.12/dist-packages/jupyter_client/session.py:151: DeprecationWarning: datetime.datetime.utcnow() is deprecated and scheduled for removal in a future version. Use timezone-aware objects to represent datetimes in UTC: datetime.datetime.now(datetime.UTC).\n",
            "  return datetime.utcnow().replace(tzinfo=utc)\n",
            "/usr/local/lib/python3.12/dist-packages/jupyter_client/session.py:151: DeprecationWarning: datetime.datetime.utcnow() is deprecated and scheduled for removal in a future version. Use timezone-aware objects to represent datetimes in UTC: datetime.datetime.now(datetime.UTC).\n",
            "  return datetime.utcnow().replace(tzinfo=utc)\n",
            "/usr/local/lib/python3.12/dist-packages/jupyter_client/session.py:151: DeprecationWarning: datetime.datetime.utcnow() is deprecated and scheduled for removal in a future version. Use timezone-aware objects to represent datetimes in UTC: datetime.datetime.now(datetime.UTC).\n",
            "  return datetime.utcnow().replace(tzinfo=utc)\n",
            "/usr/local/lib/python3.12/dist-packages/jupyter_client/session.py:151: DeprecationWarning: datetime.datetime.utcnow() is deprecated and scheduled for removal in a future version. Use timezone-aware objects to represent datetimes in UTC: datetime.datetime.now(datetime.UTC).\n",
            "  return datetime.utcnow().replace(tzinfo=utc)\n",
            "/usr/local/lib/python3.12/dist-packages/jupyter_client/session.py:151: DeprecationWarning: datetime.datetime.utcnow() is deprecated and scheduled for removal in a future version. Use timezone-aware objects to represent datetimes in UTC: datetime.datetime.now(datetime.UTC).\n",
            "  return datetime.utcnow().replace(tzinfo=utc)\n",
            "/usr/local/lib/python3.12/dist-packages/jupyter_client/session.py:151: DeprecationWarning: datetime.datetime.utcnow() is deprecated and scheduled for removal in a future version. Use timezone-aware objects to represent datetimes in UTC: datetime.datetime.now(datetime.UTC).\n",
            "  return datetime.utcnow().replace(tzinfo=utc)\n",
            "/usr/local/lib/python3.12/dist-packages/jupyter_client/session.py:151: DeprecationWarning: datetime.datetime.utcnow() is deprecated and scheduled for removal in a future version. Use timezone-aware objects to represent datetimes in UTC: datetime.datetime.now(datetime.UTC).\n",
            "  return datetime.utcnow().replace(tzinfo=utc)\n",
            "/usr/local/lib/python3.12/dist-packages/jupyter_client/session.py:151: DeprecationWarning: datetime.datetime.utcnow() is deprecated and scheduled for removal in a future version. Use timezone-aware objects to represent datetimes in UTC: datetime.datetime.now(datetime.UTC).\n",
            "  return datetime.utcnow().replace(tzinfo=utc)\n",
            " 40%|████      | 2/5 [00:01<00:02,  1.20it/s]/usr/local/lib/python3.12/dist-packages/jupyter_client/session.py:151: DeprecationWarning: datetime.datetime.utcnow() is deprecated and scheduled for removal in a future version. Use timezone-aware objects to represent datetimes in UTC: datetime.datetime.now(datetime.UTC).\n",
            "  return datetime.utcnow().replace(tzinfo=utc)\n",
            "/usr/local/lib/python3.12/dist-packages/jupyter_client/session.py:151: DeprecationWarning: datetime.datetime.utcnow() is deprecated and scheduled for removal in a future version. Use timezone-aware objects to represent datetimes in UTC: datetime.datetime.now(datetime.UTC).\n",
            "  return datetime.utcnow().replace(tzinfo=utc)\n",
            "/usr/local/lib/python3.12/dist-packages/jupyter_client/session.py:151: DeprecationWarning: datetime.datetime.utcnow() is deprecated and scheduled for removal in a future version. Use timezone-aware objects to represent datetimes in UTC: datetime.datetime.now(datetime.UTC).\n",
            "  return datetime.utcnow().replace(tzinfo=utc)\n",
            "/usr/local/lib/python3.12/dist-packages/jupyter_client/session.py:151: DeprecationWarning: datetime.datetime.utcnow() is deprecated and scheduled for removal in a future version. Use timezone-aware objects to represent datetimes in UTC: datetime.datetime.now(datetime.UTC).\n",
            "  return datetime.utcnow().replace(tzinfo=utc)\n",
            "/usr/local/lib/python3.12/dist-packages/jupyter_client/session.py:151: DeprecationWarning: datetime.datetime.utcnow() is deprecated and scheduled for removal in a future version. Use timezone-aware objects to represent datetimes in UTC: datetime.datetime.now(datetime.UTC).\n",
            "  return datetime.utcnow().replace(tzinfo=utc)\n",
            "/usr/local/lib/python3.12/dist-packages/jupyter_client/session.py:151: DeprecationWarning: datetime.datetime.utcnow() is deprecated and scheduled for removal in a future version. Use timezone-aware objects to represent datetimes in UTC: datetime.datetime.now(datetime.UTC).\n",
            "  return datetime.utcnow().replace(tzinfo=utc)\n",
            "/usr/local/lib/python3.12/dist-packages/jupyter_client/session.py:151: DeprecationWarning: datetime.datetime.utcnow() is deprecated and scheduled for removal in a future version. Use timezone-aware objects to represent datetimes in UTC: datetime.datetime.now(datetime.UTC).\n",
            "  return datetime.utcnow().replace(tzinfo=utc)\n",
            "/usr/local/lib/python3.12/dist-packages/jupyter_client/session.py:151: DeprecationWarning: datetime.datetime.utcnow() is deprecated and scheduled for removal in a future version. Use timezone-aware objects to represent datetimes in UTC: datetime.datetime.now(datetime.UTC).\n",
            "  return datetime.utcnow().replace(tzinfo=utc)\n",
            "/usr/local/lib/python3.12/dist-packages/jupyter_client/session.py:151: DeprecationWarning: datetime.datetime.utcnow() is deprecated and scheduled for removal in a future version. Use timezone-aware objects to represent datetimes in UTC: datetime.datetime.now(datetime.UTC).\n",
            "  return datetime.utcnow().replace(tzinfo=utc)\n",
            "/usr/local/lib/python3.12/dist-packages/jupyter_client/session.py:151: DeprecationWarning: datetime.datetime.utcnow() is deprecated and scheduled for removal in a future version. Use timezone-aware objects to represent datetimes in UTC: datetime.datetime.now(datetime.UTC).\n",
            "  return datetime.utcnow().replace(tzinfo=utc)\n",
            " 60%|██████    | 3/5 [00:02<00:01,  1.60it/s]/usr/local/lib/python3.12/dist-packages/jupyter_client/session.py:151: DeprecationWarning: datetime.datetime.utcnow() is deprecated and scheduled for removal in a future version. Use timezone-aware objects to represent datetimes in UTC: datetime.datetime.now(datetime.UTC).\n",
            "  return datetime.utcnow().replace(tzinfo=utc)\n",
            "/usr/local/lib/python3.12/dist-packages/jupyter_client/session.py:151: DeprecationWarning: datetime.datetime.utcnow() is deprecated and scheduled for removal in a future version. Use timezone-aware objects to represent datetimes in UTC: datetime.datetime.now(datetime.UTC).\n",
            "  return datetime.utcnow().replace(tzinfo=utc)\n",
            "/usr/local/lib/python3.12/dist-packages/jupyter_client/session.py:151: DeprecationWarning: datetime.datetime.utcnow() is deprecated and scheduled for removal in a future version. Use timezone-aware objects to represent datetimes in UTC: datetime.datetime.now(datetime.UTC).\n",
            "  return datetime.utcnow().replace(tzinfo=utc)\n",
            "/usr/local/lib/python3.12/dist-packages/jupyter_client/session.py:151: DeprecationWarning: datetime.datetime.utcnow() is deprecated and scheduled for removal in a future version. Use timezone-aware objects to represent datetimes in UTC: datetime.datetime.now(datetime.UTC).\n",
            "  return datetime.utcnow().replace(tzinfo=utc)\n",
            "/usr/local/lib/python3.12/dist-packages/jupyter_client/session.py:151: DeprecationWarning: datetime.datetime.utcnow() is deprecated and scheduled for removal in a future version. Use timezone-aware objects to represent datetimes in UTC: datetime.datetime.now(datetime.UTC).\n",
            "  return datetime.utcnow().replace(tzinfo=utc)\n",
            "/usr/local/lib/python3.12/dist-packages/jupyter_client/session.py:151: DeprecationWarning: datetime.datetime.utcnow() is deprecated and scheduled for removal in a future version. Use timezone-aware objects to represent datetimes in UTC: datetime.datetime.now(datetime.UTC).\n",
            "  return datetime.utcnow().replace(tzinfo=utc)\n",
            " 80%|████████  | 4/5 [00:02<00:00,  2.19it/s]/usr/local/lib/python3.12/dist-packages/jupyter_client/session.py:151: DeprecationWarning: datetime.datetime.utcnow() is deprecated and scheduled for removal in a future version. Use timezone-aware objects to represent datetimes in UTC: datetime.datetime.now(datetime.UTC).\n",
            "  return datetime.utcnow().replace(tzinfo=utc)\n",
            "/usr/local/lib/python3.12/dist-packages/jupyter_client/session.py:151: DeprecationWarning: datetime.datetime.utcnow() is deprecated and scheduled for removal in a future version. Use timezone-aware objects to represent datetimes in UTC: datetime.datetime.now(datetime.UTC).\n",
            "  return datetime.utcnow().replace(tzinfo=utc)\n",
            "/usr/local/lib/python3.12/dist-packages/jupyter_client/session.py:151: DeprecationWarning: datetime.datetime.utcnow() is deprecated and scheduled for removal in a future version. Use timezone-aware objects to represent datetimes in UTC: datetime.datetime.now(datetime.UTC).\n",
            "  return datetime.utcnow().replace(tzinfo=utc)\n",
            "/usr/local/lib/python3.12/dist-packages/jupyter_client/session.py:151: DeprecationWarning: datetime.datetime.utcnow() is deprecated and scheduled for removal in a future version. Use timezone-aware objects to represent datetimes in UTC: datetime.datetime.now(datetime.UTC).\n",
            "  return datetime.utcnow().replace(tzinfo=utc)\n",
            "/usr/local/lib/python3.12/dist-packages/jupyter_client/session.py:151: DeprecationWarning: datetime.datetime.utcnow() is deprecated and scheduled for removal in a future version. Use timezone-aware objects to represent datetimes in UTC: datetime.datetime.now(datetime.UTC).\n",
            "  return datetime.utcnow().replace(tzinfo=utc)\n",
            "/usr/local/lib/python3.12/dist-packages/jupyter_client/session.py:151: DeprecationWarning: datetime.datetime.utcnow() is deprecated and scheduled for removal in a future version. Use timezone-aware objects to represent datetimes in UTC: datetime.datetime.now(datetime.UTC).\n",
            "  return datetime.utcnow().replace(tzinfo=utc)\n",
            "/usr/local/lib/python3.12/dist-packages/jupyter_client/session.py:151: DeprecationWarning: datetime.datetime.utcnow() is deprecated and scheduled for removal in a future version. Use timezone-aware objects to represent datetimes in UTC: datetime.datetime.now(datetime.UTC).\n",
            "  return datetime.utcnow().replace(tzinfo=utc)\n",
            "100%|██████████| 5/5 [00:02<00:00,  2.87it/s]/usr/local/lib/python3.12/dist-packages/jupyter_client/session.py:151: DeprecationWarning: datetime.datetime.utcnow() is deprecated and scheduled for removal in a future version. Use timezone-aware objects to represent datetimes in UTC: datetime.datetime.now(datetime.UTC).\n",
            "  return datetime.utcnow().replace(tzinfo=utc)\n",
            "100%|██████████| 5/5 [00:02<00:00,  2.00it/s]/usr/local/lib/python3.12/dist-packages/jupyter_client/session.py:151: DeprecationWarning: datetime.datetime.utcnow() is deprecated and scheduled for removal in a future version. Use timezone-aware objects to represent datetimes in UTC: datetime.datetime.now(datetime.UTC).\n",
            "  return datetime.utcnow().replace(tzinfo=utc)\n",
            "\n",
            "/usr/local/lib/python3.12/dist-packages/jupyter_client/session.py:151: DeprecationWarning: datetime.datetime.utcnow() is deprecated and scheduled for removal in a future version. Use timezone-aware objects to represent datetimes in UTC: datetime.datetime.now(datetime.UTC).\n",
            "  return datetime.utcnow().replace(tzinfo=utc)\n",
            "/usr/local/lib/python3.12/dist-packages/jupyter_client/session.py:151: DeprecationWarning: datetime.datetime.utcnow() is deprecated and scheduled for removal in a future version. Use timezone-aware objects to represent datetimes in UTC: datetime.datetime.now(datetime.UTC).\n",
            "  return datetime.utcnow().replace(tzinfo=utc)\n"
          ]
        }
      ]
    },
    {
      "cell_type": "code",
      "source": [
        "print(r[0][:1000])"
      ],
      "metadata": {
        "id": "gyLmlDezSK83",
        "colab": {
          "base_uri": "https://localhost:8080/"
        },
        "outputId": "10c587e5-9c9d-4539-c092-787551938ee9"
      },
      "execution_count": null,
      "outputs": [
        {
          "output_type": "stream",
          "name": "stdout",
          "text": [
            "What is LangGraph? | IBM\n",
            "What is LangGraph?\n",
            "AI Agents\n",
            "Welcome\n",
            "Caret right\n",
            "Introduction\n",
            "Overview\n",
            "AI agents vs AI assistants\n",
            "Agentic AI\n",
            "Agentic AI vs generative AI\n",
            "Caret right\n",
            "AI agent development\n",
            "AgentOps\n",
            "Types of AI agents\n",
            "Caret right\n",
            "Components\n",
            "Overview\n",
            "Caret right\n",
            "Agentic workflows\n",
            "What are agentic workflows?\n",
            "Tutorial: Agentic workflows\n",
            "Communication\n",
            "Learning\n",
            "Memory\n",
            "Perception\n",
            "Planning\n",
            "Reasoning\n",
            "Caret right\n",
            "Tool calling\n",
            "What is tool calling?\n",
            "Tutorial: Ollama tool calling\n",
            "Caret right\n",
            "Architecture\n",
            "Overview\n",
            "Caret right\n",
            "AI agent orchestration\n",
            "What is agent orchestration?\n",
            "Tutorial: Agent orchestration\n",
            "Caret right\n",
            "Multi-agent systems\n",
            "What are multi-agent systems?\n",
            "Tutorial: crewAI multi-agent call analysis\n",
            "Multi-agent collaboration\n",
            "Caret right\n",
            "ReAct\n",
            "What is ReAct?\n",
            "Tutorial: LangGraph ReAct agent\n",
            "Caret right\n",
            "ReWOO\n",
            "Tutorial: ReWOO reasoning agent\n",
            "Caret right\n",
            "Protocols\n",
            "Overview\n",
            "Agent Communication Protocol (ACP)\n",
            "Agent2Agent (A2A)\n",
            "Model Context Protocol (MCP)\n",
            "Caret right\n",
            "Multi-agent systems\n",
            "Ove\n"
          ]
        },
        {
          "output_type": "stream",
          "name": "stderr",
          "text": [
            "/usr/local/lib/python3.12/dist-packages/jupyter_client/session.py:151: DeprecationWarning: datetime.datetime.utcnow() is deprecated and scheduled for removal in a future version. Use timezone-aware objects to represent datetimes in UTC: datetime.datetime.now(datetime.UTC).\n",
            "  return datetime.utcnow().replace(tzinfo=utc)\n",
            "/usr/local/lib/python3.12/dist-packages/jupyter_client/session.py:151: DeprecationWarning: datetime.datetime.utcnow() is deprecated and scheduled for removal in a future version. Use timezone-aware objects to represent datetimes in UTC: datetime.datetime.now(datetime.UTC).\n",
            "  return datetime.utcnow().replace(tzinfo=utc)\n",
            "/usr/local/lib/python3.12/dist-packages/jupyter_client/session.py:151: DeprecationWarning: datetime.datetime.utcnow() is deprecated and scheduled for removal in a future version. Use timezone-aware objects to represent datetimes in UTC: datetime.datetime.now(datetime.UTC).\n",
            "  return datetime.utcnow().replace(tzinfo=utc)\n",
            "/usr/local/lib/python3.12/dist-packages/jupyter_client/session.py:151: DeprecationWarning: datetime.datetime.utcnow() is deprecated and scheduled for removal in a future version. Use timezone-aware objects to represent datetimes in UTC: datetime.datetime.now(datetime.UTC).\n",
            "  return datetime.utcnow().replace(tzinfo=utc)\n",
            "/usr/local/lib/python3.12/dist-packages/jupyter_client/session.py:151: DeprecationWarning: datetime.datetime.utcnow() is deprecated and scheduled for removal in a future version. Use timezone-aware objects to represent datetimes in UTC: datetime.datetime.now(datetime.UTC).\n",
            "  return datetime.utcnow().replace(tzinfo=utc)\n",
            "/usr/local/lib/python3.12/dist-packages/jupyter_client/session.py:151: DeprecationWarning: datetime.datetime.utcnow() is deprecated and scheduled for removal in a future version. Use timezone-aware objects to represent datetimes in UTC: datetime.datetime.now(datetime.UTC).\n",
            "  return datetime.utcnow().replace(tzinfo=utc)\n",
            "/usr/local/lib/python3.12/dist-packages/jupyter_client/session.py:151: DeprecationWarning: datetime.datetime.utcnow() is deprecated and scheduled for removal in a future version. Use timezone-aware objects to represent datetimes in UTC: datetime.datetime.now(datetime.UTC).\n",
            "  return datetime.utcnow().replace(tzinfo=utc)\n",
            "/usr/local/lib/python3.12/dist-packages/jupyter_client/session.py:151: DeprecationWarning: datetime.datetime.utcnow() is deprecated and scheduled for removal in a future version. Use timezone-aware objects to represent datetimes in UTC: datetime.datetime.now(datetime.UTC).\n",
            "  return datetime.utcnow().replace(tzinfo=utc)\n"
          ]
        }
      ]
    },
    {
      "cell_type": "code",
      "source": [
        "response.tool_calls"
      ],
      "metadata": {
        "id": "fZgKu2zCSQmk",
        "colab": {
          "base_uri": "https://localhost:8080/",
          "height": 578
        },
        "outputId": "80630ff9-1f15-49da-b081-4225436d8a87"
      },
      "execution_count": null,
      "outputs": [
        {
          "output_type": "stream",
          "name": "stderr",
          "text": [
            "/usr/local/lib/python3.12/dist-packages/jupyter_client/session.py:151: DeprecationWarning: datetime.datetime.utcnow() is deprecated and scheduled for removal in a future version. Use timezone-aware objects to represent datetimes in UTC: datetime.datetime.now(datetime.UTC).\n",
            "  return datetime.utcnow().replace(tzinfo=utc)\n",
            "/usr/local/lib/python3.12/dist-packages/jupyter_client/session.py:151: DeprecationWarning: datetime.datetime.utcnow() is deprecated and scheduled for removal in a future version. Use timezone-aware objects to represent datetimes in UTC: datetime.datetime.now(datetime.UTC).\n",
            "  return datetime.utcnow().replace(tzinfo=utc)\n",
            "/usr/local/lib/python3.12/dist-packages/jupyter_client/session.py:151: DeprecationWarning: datetime.datetime.utcnow() is deprecated and scheduled for removal in a future version. Use timezone-aware objects to represent datetimes in UTC: datetime.datetime.now(datetime.UTC).\n",
            "  return datetime.utcnow().replace(tzinfo=utc)\n",
            "/usr/local/lib/python3.12/dist-packages/jupyter_client/session.py:151: DeprecationWarning: datetime.datetime.utcnow() is deprecated and scheduled for removal in a future version. Use timezone-aware objects to represent datetimes in UTC: datetime.datetime.now(datetime.UTC).\n",
            "  return datetime.utcnow().replace(tzinfo=utc)\n",
            "/usr/local/lib/python3.12/dist-packages/jupyter_client/session.py:151: DeprecationWarning: datetime.datetime.utcnow() is deprecated and scheduled for removal in a future version. Use timezone-aware objects to represent datetimes in UTC: datetime.datetime.now(datetime.UTC).\n",
            "  return datetime.utcnow().replace(tzinfo=utc)\n"
          ]
        },
        {
          "output_type": "error",
          "ename": "AttributeError",
          "evalue": "'GenerateContentResponse' object has no attribute 'tool_calls'",
          "traceback": [
            "\u001b[0;31m---------------------------------------------------------------------------\u001b[0m",
            "\u001b[0;31mAttributeError\u001b[0m                            Traceback (most recent call last)",
            "\u001b[0;32m/tmp/ipython-input-165572455.py\u001b[0m in \u001b[0;36m<cell line: 0>\u001b[0;34m()\u001b[0m\n\u001b[0;32m----> 1\u001b[0;31m \u001b[0mresponse\u001b[0m\u001b[0;34m.\u001b[0m\u001b[0mtool_calls\u001b[0m\u001b[0;34m\u001b[0m\u001b[0;34m\u001b[0m\u001b[0m\n\u001b[0m",
            "\u001b[0;31mAttributeError\u001b[0m: 'GenerateContentResponse' object has no attribute 'tool_calls'"
          ]
        },
        {
          "output_type": "stream",
          "name": "stderr",
          "text": [
            "/usr/local/lib/python3.12/dist-packages/jupyter_client/session.py:151: DeprecationWarning: datetime.datetime.utcnow() is deprecated and scheduled for removal in a future version. Use timezone-aware objects to represent datetimes in UTC: datetime.datetime.now(datetime.UTC).\n",
            "  return datetime.utcnow().replace(tzinfo=utc)\n",
            "/usr/local/lib/python3.12/dist-packages/jupyter_client/session.py:151: DeprecationWarning: datetime.datetime.utcnow() is deprecated and scheduled for removal in a future version. Use timezone-aware objects to represent datetimes in UTC: datetime.datetime.now(datetime.UTC).\n",
            "  return datetime.utcnow().replace(tzinfo=utc)\n",
            "/usr/local/lib/python3.12/dist-packages/jupyter_client/session.py:151: DeprecationWarning: datetime.datetime.utcnow() is deprecated and scheduled for removal in a future version. Use timezone-aware objects to represent datetimes in UTC: datetime.datetime.now(datetime.UTC).\n",
            "  return datetime.utcnow().replace(tzinfo=utc)\n",
            "/usr/local/lib/python3.12/dist-packages/jupyter_client/session.py:151: DeprecationWarning: datetime.datetime.utcnow() is deprecated and scheduled for removal in a future version. Use timezone-aware objects to represent datetimes in UTC: datetime.datetime.now(datetime.UTC).\n",
            "  return datetime.utcnow().replace(tzinfo=utc)\n",
            "/usr/local/lib/python3.12/dist-packages/jupyter_client/session.py:151: DeprecationWarning: datetime.datetime.utcnow() is deprecated and scheduled for removal in a future version. Use timezone-aware objects to represent datetimes in UTC: datetime.datetime.now(datetime.UTC).\n",
            "  return datetime.utcnow().replace(tzinfo=utc)\n",
            "/usr/local/lib/python3.12/dist-packages/jupyter_client/session.py:151: DeprecationWarning: datetime.datetime.utcnow() is deprecated and scheduled for removal in a future version. Use timezone-aware objects to represent datetimes in UTC: datetime.datetime.now(datetime.UTC).\n",
            "  return datetime.utcnow().replace(tzinfo=utc)\n",
            "/usr/local/lib/python3.12/dist-packages/jupyter_client/session.py:151: DeprecationWarning: datetime.datetime.utcnow() is deprecated and scheduled for removal in a future version. Use timezone-aware objects to represent datetimes in UTC: datetime.datetime.now(datetime.UTC).\n",
            "  return datetime.utcnow().replace(tzinfo=utc)\n"
          ]
        }
      ]
    },
    {
      "cell_type": "code",
      "source": [
        "from langchain_core.prompts import ChatPromptTemplate, MessagesPlaceholder\n",
        "\n",
        "SYS_PROMPT = \"\"\"You run in a loop of Thought, Action, PAUSE, Observation.\n",
        "                At the end of the loop, you output an Answer.\n",
        "                Use Thought to describe your thoughts about the question you have been asked.\n",
        "                Use Action to run one of the actions available to you - then return PAUSE.\n",
        "                Observation will be the result of running those actions.\n",
        "                For the user query below, first break it into multiple sub queries or sub steps if needed.\n",
        "                The follow the below workflow for each sub query or sub step\n",
        "                Analyze, validate the relevant results and then compile to generate the final answer\n",
        "\n",
        "                Use the following workflow format:\n",
        "                Question: the input task you must solve\n",
        "                Thought: you should always think about what to do\n",
        "                Action: the action to take:\n",
        "                          - should be either to break down the task into sub tasks first if needed\n",
        "                          - refer to your trained knowledge or call the tool [search_web]\n",
        "                            if you need to get additional information from the web\n",
        "                Action Input: the input to the action\n",
        "                Observation: the result of the action\n",
        "                ... (this Thought/Action/Action Input/Observation can repeat N times)\n",
        "                Thought: I now know the final answer\n",
        "                Final Answer: the final answer to the original input question\n",
        "             \"\"\"\n",
        "\n",
        "prompt_template = ChatPromptTemplate.from_messages(\n",
        "   [\n",
        "       (\"system\", SYS_PROMPT),\n",
        "       (\"human\", \"Query: {query}\"),\n",
        "       MessagesPlaceholder(variable_name=\"agent_scratchpad\"),\n",
        "   ]\n",
        ")"
      ],
      "metadata": {
        "id": "5kB759oeSS_1",
        "colab": {
          "base_uri": "https://localhost:8080/"
        },
        "outputId": "a35f855d-ca4d-4086-9c12-b03e0cf8c444"
      },
      "execution_count": null,
      "outputs": [
        {
          "output_type": "stream",
          "name": "stderr",
          "text": [
            "/usr/local/lib/python3.12/dist-packages/jupyter_client/session.py:151: DeprecationWarning: datetime.datetime.utcnow() is deprecated and scheduled for removal in a future version. Use timezone-aware objects to represent datetimes in UTC: datetime.datetime.now(datetime.UTC).\n",
            "  return datetime.utcnow().replace(tzinfo=utc)\n",
            "/usr/local/lib/python3.12/dist-packages/jupyter_client/session.py:151: DeprecationWarning: datetime.datetime.utcnow() is deprecated and scheduled for removal in a future version. Use timezone-aware objects to represent datetimes in UTC: datetime.datetime.now(datetime.UTC).\n",
            "  return datetime.utcnow().replace(tzinfo=utc)\n",
            "/usr/local/lib/python3.12/dist-packages/jupyter_client/session.py:151: DeprecationWarning: datetime.datetime.utcnow() is deprecated and scheduled for removal in a future version. Use timezone-aware objects to represent datetimes in UTC: datetime.datetime.now(datetime.UTC).\n",
            "  return datetime.utcnow().replace(tzinfo=utc)\n",
            "/usr/local/lib/python3.12/dist-packages/jupyter_client/session.py:151: DeprecationWarning: datetime.datetime.utcnow() is deprecated and scheduled for removal in a future version. Use timezone-aware objects to represent datetimes in UTC: datetime.datetime.now(datetime.UTC).\n",
            "  return datetime.utcnow().replace(tzinfo=utc)\n",
            "/usr/local/lib/python3.12/dist-packages/jupyter_client/session.py:151: DeprecationWarning: datetime.datetime.utcnow() is deprecated and scheduled for removal in a future version. Use timezone-aware objects to represent datetimes in UTC: datetime.datetime.now(datetime.UTC).\n",
            "  return datetime.utcnow().replace(tzinfo=utc)\n",
            "/usr/local/lib/python3.12/dist-packages/jupyter_client/session.py:151: DeprecationWarning: datetime.datetime.utcnow() is deprecated and scheduled for removal in a future version. Use timezone-aware objects to represent datetimes in UTC: datetime.datetime.now(datetime.UTC).\n",
            "  return datetime.utcnow().replace(tzinfo=utc)\n",
            "/usr/local/lib/python3.12/dist-packages/jupyter_client/session.py:151: DeprecationWarning: datetime.datetime.utcnow() is deprecated and scheduled for removal in a future version. Use timezone-aware objects to represent datetimes in UTC: datetime.datetime.now(datetime.UTC).\n",
            "  return datetime.utcnow().replace(tzinfo=utc)\n",
            "/usr/local/lib/python3.12/dist-packages/jupyter_client/session.py:151: DeprecationWarning: datetime.datetime.utcnow() is deprecated and scheduled for removal in a future version. Use timezone-aware objects to represent datetimes in UTC: datetime.datetime.now(datetime.UTC).\n",
            "  return datetime.utcnow().replace(tzinfo=utc)\n",
            "/usr/local/lib/python3.12/dist-packages/jupyter_client/session.py:151: DeprecationWarning: datetime.datetime.utcnow() is deprecated and scheduled for removal in a future version. Use timezone-aware objects to represent datetimes in UTC: datetime.datetime.now(datetime.UTC).\n",
            "  return datetime.utcnow().replace(tzinfo=utc)\n"
          ]
        }
      ]
    }
  ],
  "metadata": {
    "colab": {
      "provenance": [],
      "include_colab_link": true
    },
    "kernelspec": {
      "display_name": "Python 3",
      "name": "python3"
    },
    "language_info": {
      "name": "python"
    }
  },
  "nbformat": 4,
  "nbformat_minor": 0
}